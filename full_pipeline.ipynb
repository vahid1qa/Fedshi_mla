{
 "cells": [
  {
   "cell_type": "code",
   "execution_count": 1,
   "id": "987bef31",
   "metadata": {},
   "outputs": [
    {
     "name": "stderr",
     "output_type": "stream",
     "text": [
      "/Users/vahid/Downloads/fedshi/Fedshi_mla/.venv/lib/python3.9/site-packages/urllib3/__init__.py:35: NotOpenSSLWarning: urllib3 v2 only supports OpenSSL 1.1.1+, currently the 'ssl' module is compiled with 'LibreSSL 2.8.3'. See: https://github.com/urllib3/urllib3/issues/3020\n",
      "  warnings.warn(\n",
      "/Users/vahid/Downloads/fedshi/Fedshi_mla/.venv/lib/python3.9/site-packages/tqdm/auto.py:21: TqdmWarning: IProgress not found. Please update jupyter and ipywidgets. See https://ipywidgets.readthedocs.io/en/stable/user_install.html\n",
      "  from .autonotebook import tqdm as notebook_tqdm\n"
     ]
    },
    {
     "name": "stdout",
     "output_type": "stream",
     "text": [
      "============================================================\n",
      "EXECUTION CONTROL FLAGS\n",
      "============================================================\n",
      "Skip Hyperparameter Optimization: False\n",
      "Skip Model Training: False\n",
      "Skip FAISS Indexing: False\n",
      "RAW_DATA_DIR: data\n",
      "PROCESSED_DATA_DIR: data/processed\n",
      "============================================================\n",
      "\n",
      "Project Configuration Initialized:\n",
      "  - Device for training: MPS\n",
      "  - Loss function: BCE\n"
     ]
    }
   ],
   "source": [
    "# Step 1: Project Setup and Configuration\n",
    "\n",
    "# --- Core Libraries & Data Handling ---\n",
    "import os\n",
    "import re\n",
    "import gc\n",
    "import json\n",
    "import pickle\n",
    "import psutil\n",
    "import warnings\n",
    "import hashlib\n",
    "import polars as pl\n",
    "import pandas as pd\n",
    "import numpy as np\n",
    "import regex as re\n",
    "from pathlib import Path\n",
    "from functools import lru_cache\n",
    "from types import SimpleNamespace\n",
    "from collections import defaultdict\n",
    "from dotenv import load_dotenv\n",
    "\n",
    "# --- Machine Learning & Deep Learning ---\n",
    "import torch\n",
    "import torch.nn as nn\n",
    "import torch.optim as optim\n",
    "from torch.utils.data import Dataset, DataLoader\n",
    "from sklearn.model_selection import train_test_split\n",
    "from sklearn.preprocessing import LabelEncoder\n",
    "from sentence_transformers import SentenceTransformer\n",
    "\n",
    "# --- Vector Search & Similarity ---\n",
    "import faiss\n",
    "import jellyfish\n",
    "import networkx as nx\n",
    "\n",
    "# --- Visualization & Optimization ---\n",
    "import matplotlib.pyplot as plt\n",
    "import seaborn as sns\n",
    "import optuna\n",
    "from tqdm import tqdm\n",
    "\n",
    "# Suppress warnings for a cleaner output\n",
    "warnings.filterwarnings('ignore')\n",
    "\n",
    "# Load environment variables from .env (for RAW_DATA_DIR, PROCESSED_DATA_DIR, etc.)\n",
    "load_dotenv()\n",
    "\n",
    "# ==============================================================================\n",
    "#  Execution Control - Skip expensive operations if results are already saved\n",
    "# ==============================================================================\n",
    "SKIP_HYPERPARAMETER_OPTIMIZATION = False  # Skips Optuna HPO (~10 minutes)\n",
    "SKIP_MODEL_TRAINING = False              # Set to True to skip the final model training\n",
    "SKIP_FAISS_INDEXING = False             # Skips creating the FAISS index (~2-3 minutes)\n",
    "RAW_DATA_DIR = Path(os.getenv(\"RAW_DATA_DIR\", \"./data/\"))\n",
    "PROCESSED_DATA_DIR = Path(os.getenv(\"PROCESSED_DATA_DIR\", \"./data/processed/\"))\n",
    "\n",
    "print(\"=\"*60)\n",
    "print(\"EXECUTION CONTROL FLAGS\")\n",
    "print(\"=\"*60)\n",
    "print(f\"Skip Hyperparameter Optimization: {SKIP_HYPERPARAMETER_OPTIMIZATION}\")\n",
    "print(f\"Skip Model Training: {SKIP_MODEL_TRAINING}\")\n",
    "print(f\"Skip FAISS Indexing: {SKIP_FAISS_INDEXING}\")\n",
    "print(f\"RAW_DATA_DIR: {RAW_DATA_DIR}\")\n",
    "print(f\"PROCESSED_DATA_DIR: {PROCESSED_DATA_DIR}\")\n",
    "print(\"=\"*60)\n",
    "\n",
    "# Set a seed for reproducibility across all libraries\n",
    "SEED = 42\n",
    "np.random.seed(SEED)\n",
    "torch.manual_seed(SEED)\n",
    "if torch.cuda.is_available():\n",
    "    torch.cuda.manual_seed_all(SEED)\n",
    "\n",
    "# Central configuration class for all project parameters\n",
    "class ProjectConfig:\n",
    "    \"\"\"Holds all key configuration parameters for the project.\"\"\"\n",
    "    DATA_DIR = RAW_DATA_DIR\n",
    "    MIN_USER_RATINGS = 5\n",
    "    MIN_BOOK_RATINGS = 10\n",
    "    EMBEDDING_DIM = 64\n",
    "    LOSS_TYPE = 'bce'\n",
    "    RATING_THRESHOLD_BCE = 7\n",
    "    TEST_SIZE = 0.2\n",
    "    BATCH_SIZE = 1024\n",
    "    LEARNING_RATE = 1e-3\n",
    "    EPOCHS = 10\n",
    "\n",
    "    # --- Device Configuration ---\n",
    "    # Automatically select the best available device: CUDA > MPS > CPU\n",
    "    if torch.cuda.is_available():\n",
    "        DEVICE = \"cuda\"\n",
    "    elif torch.backends.mps.is_available():\n",
    "        DEVICE = \"mps\"\n",
    "    else:\n",
    "        DEVICE = \"cpu\"\n",
    "\n",
    "CONFIG = ProjectConfig()\n",
    "\n",
    "print(f\"\\nProject Configuration Initialized:\")\n",
    "print(f\"  - Device for training: {CONFIG.DEVICE.upper()}\")\n",
    "print(f\"  - Loss function: {CONFIG.LOSS_TYPE.upper()}\")"
   ]
  },
  {
   "cell_type": "code",
   "execution_count": 2,
   "id": "e50ae94d",
   "metadata": {},
   "outputs": [
    {
     "name": "stdout",
     "output_type": "stream",
     "text": [
      "--- Loading raw datasets from CSV files ---\n",
      "\n",
      "--- All Data Loaded Successfully ---\n",
      "Books shape: (271360, 8)\n",
      "Users shape: (278858, 3)\n",
      "Ratings shape: (1149780, 3)\n"
     ]
    }
   ],
   "source": [
    "# Step 2: Data Loading\n",
    "\n",
    "print(\"--- Loading raw datasets from CSV files ---\")\n",
    "\n",
    "try:\n",
    "    # Define common parameters for CSV reading to handle potential parsing issues\n",
    "    common_params = {\n",
    "        'separator': ',',\n",
    "        'has_header': True,\n",
    "        'encoding': 'ISO-8859-1', # Common encoding for this dataset\n",
    "        'quote_char': '\"',\n",
    "        'ignore_errors': True \n",
    "    }\n",
    "\n",
    "    books = pl.read_csv(CONFIG.DATA_DIR / \"Books.csv\", **common_params)\n",
    "    users = pl.read_csv(CONFIG.DATA_DIR / \"Users.csv\", **common_params)\n",
    "    ratings = pl.read_csv(CONFIG.DATA_DIR / \"Ratings.csv\", **common_params)\n",
    "\n",
    "    print(\"\\n--- All Data Loaded Successfully ---\")\n",
    "    print(f\"Books shape: {books.shape}\")\n",
    "    print(f\"Users shape: {users.shape}\")\n",
    "    print(f\"Ratings shape: {ratings.shape}\")\n",
    "\n",
    "except Exception as e:\n",
    "    print(f\"\\nAn error occurred during data loading: {e}\")"
   ]
  },
  {
   "cell_type": "code",
   "execution_count": 3,
   "id": "82aeb0d7",
   "metadata": {},
   "outputs": [
    {
     "name": "stdout",
     "output_type": "stream",
     "text": [
      "--- Column Names Standardized ---\n",
      "Books columns: ['isbn', 'book_title', 'book_author', 'year_of_publication', 'publisher', 'image_url_s', 'image_url_m', 'image_url_l']\n",
      "Users columns: ['user_id', 'location', 'age']\n",
      "Ratings columns: ['user_id', 'isbn', 'book_rating']\n"
     ]
    }
   ],
   "source": [
    "# Step 3: Column Name Standardization\n",
    "\n",
    "def standardize_cols(df: pl.DataFrame) -> pl.DataFrame:\n",
    "    \"\"\"Converts all column names to lowercase snake_case for consistency.\"\"\"\n",
    "    return df.rename({col: col.lower().replace('-', '_').replace(' ', '_') for col in df.columns})\n",
    "\n",
    "# Apply the standardization to all dataframes\n",
    "books = standardize_cols(books)\n",
    "users = standardize_cols(users)\n",
    "ratings = standardize_cols(ratings)\n",
    "\n",
    "print(\"--- Column Names Standardized ---\")\n",
    "print(f\"Books columns: {books.columns}\")\n",
    "print(f\"Users columns: {users.columns}\")\n",
    "print(f\"Ratings columns: {ratings.columns}\")"
   ]
  },
  {
   "cell_type": "code",
   "execution_count": 4,
   "id": "059f8569",
   "metadata": {},
   "outputs": [
    {
     "name": "stdout",
     "output_type": "stream",
     "text": [
      "--- Renaming columns for clarity and brevity ---\n",
      "\n",
      "--- Columns Renamed ---\n",
      "Books columns: ['isbn', 'title', 'author', 'yop', 'publisher', 'image_s', 'image_m', 'image_l']\n",
      "Users columns: ['user_id', 'loc', 'age']\n",
      "Ratings columns: ['user_id', 'isbn', 'rating']\n"
     ]
    }
   ],
   "source": [
    "# Step 4: Column Renaming\n",
    "\n",
    "print(\"--- Renaming columns for clarity and brevity ---\")\n",
    "\n",
    "rename_book_map = {\n",
    "    \"book_title\": \"title\",\n",
    "    \"book_author\": \"author\",\n",
    "    \"year_of_publication\": \"yop\",\n",
    "    \"image_url_s\": \"image_s\",\n",
    "    \"image_url_m\": \"image_m\",\n",
    "    \"image_url_l\": \"image_l\"\n",
    "}\n",
    "rename_rating_map = {\n",
    "    \"book_rating\": \"rating\"\n",
    "}\n",
    "rename_users_map = {\n",
    "    \"location\": \"loc\",\n",
    "}\n",
    "\n",
    "def rename_columns(df: pl.DataFrame, rename_dict: dict) -> pl.DataFrame:\n",
    "    \"\"\"A simple helper to apply a renaming dictionary to a dataframe.\"\"\"\n",
    "    return df.rename(rename_dict)\n",
    "\n",
    "books = rename_columns(books, rename_book_map)\n",
    "ratings = rename_columns(ratings, rename_rating_map)\n",
    "users = rename_columns(users, rename_users_map)\n",
    "\n",
    "print(\"\\n--- Columns Renamed ---\")\n",
    "print(f\"Books columns: {books.columns}\")\n",
    "print(f\"Users columns: {users.columns}\")\n",
    "print(f\"Ratings columns: {ratings.columns}\")"
   ]
  },
  {
   "cell_type": "code",
   "execution_count": 5,
   "id": "ff13b6d7",
   "metadata": {},
   "outputs": [
    {
     "name": "stdout",
     "output_type": "stream",
     "text": [
      "--- Removing Duplicate Entries ---\n",
      "\n",
      "Checking for duplicates in 'books' based on ['isbn']...\n",
      "  > No duplicate rows found.\n",
      "  Original shape: (271360, 8) -> New shape: (271360, 8)\n",
      "\n",
      "Checking for duplicates in 'users' based on ['user_id']...\n",
      "  > No duplicate rows found.\n",
      "  Original shape: (278858, 3) -> New shape: (278858, 3)\n",
      "\n",
      "Checking for duplicates in 'ratings' based on ['user_id', 'isbn']...\n",
      "  > No duplicate rows found.\n",
      "  Original shape: (1149780, 3) -> New shape: (1149780, 3)\n"
     ]
    }
   ],
   "source": [
    "# Step 5: Duplicate Data Handling\n",
    "\n",
    "print(\"--- Removing Duplicate Entries ---\")\n",
    "\n",
    "def remove_duplicates(df: pl.DataFrame, subset_cols: list[str], df_name: str) -> pl.DataFrame:\n",
    "    \"\"\"Checks for and removes duplicate rows based on a subset of columns.\"\"\"\n",
    "    print(f\"\\nChecking for duplicates in '{df_name}' based on {subset_cols}...\")\n",
    "    \n",
    "    initial_rows = df.shape[0]\n",
    "    df_cleaned = df.unique(subset=subset_cols, keep='first')\n",
    "    final_rows = df_cleaned.shape[0]\n",
    "    duplicates_removed = initial_rows - final_rows\n",
    "    \n",
    "    if duplicates_removed > 0:\n",
    "        print(f\"  > Found and removed {duplicates_removed} duplicate row(s).\")\n",
    "    else:\n",
    "        print(\"  > No duplicate rows found.\")\n",
    "        \n",
    "    print(f\"  Original shape: ({initial_rows}, {df.shape[1]}) -> New shape: ({final_rows}, {df_cleaned.shape[1]})\")\n",
    "    return df_cleaned\n",
    "\n",
    "# Check each dataframe for its primary key uniqueness\n",
    "books = remove_duplicates(df=books, subset_cols=['isbn'], df_name='books')\n",
    "users = remove_duplicates(df=users, subset_cols=['user_id'], df_name='users')\n",
    "ratings = remove_duplicates(df=ratings, subset_cols=['user_id', 'isbn'], df_name='ratings')"
   ]
  },
  {
   "cell_type": "code",
   "execution_count": 6,
   "id": "8ddf1c76",
   "metadata": {},
   "outputs": [
    {
     "name": "stdout",
     "output_type": "stream",
     "text": [
      "--- Cleaning the 'author' Column with Diagnostics ---\n",
      "\n",
      "--- Before Cleaning ---\n",
      "Total book records: 271360\n",
      " - Null authors: 1\n",
      " - 'n/a' authors: 0\n",
      " - 'Not Applicable (Na )' authors: 286\n",
      "-------------------------------------------\n",
      "Total authors to be replaced: 287\n",
      "\n",
      "--- After Cleaning ---\n",
      "Total rows with author as 'Unknown Author': 287\n",
      "Verification: Null authors remaining: 0\n",
      "\n",
      "Success: The number of 'Unknown Author' rows matches the number of rows that needed cleaning.\n"
     ]
    }
   ],
   "source": [
    "# Step 6: Cleaning Author Data\n",
    "\n",
    "print(\"--- Cleaning the 'author' Column with Diagnostics ---\")\n",
    "\n",
    "# Diagnostic: Analyze author data BEFORE cleaning\n",
    "total_books_before = books.shape[0]\n",
    "null_authors_before = books.filter(pl.col(\"author\").is_null()).shape[0]\n",
    "na_authors_before = books.filter(pl.col(\"author\") == \"n/a\").shape[0]\n",
    "not_applicable_authors_before = books.filter(pl.col(\"author\") == \"Not Applicable (Na )\").shape[0]\n",
    "total_to_clean = null_authors_before + na_authors_before + not_applicable_authors_before\n",
    "\n",
    "print(\"\\n--- Before Cleaning ---\")\n",
    "print(f\"Total book records: {total_books_before}\")\n",
    "print(f\" - Null authors: {null_authors_before}\")\n",
    "print(f\" - 'n/a' authors: {na_authors_before}\")\n",
    "print(f\" - 'Not Applicable (Na )' authors: {not_applicable_authors_before}\")\n",
    "print(f\"-------------------------------------------\")\n",
    "print(f\"Total authors to be replaced: {total_to_clean}\")\n",
    "\n",
    "# The Cleaning Operation: Replace various null-like values with a standard 'Unknown Author'\n",
    "books = books.with_columns(\n",
    "    pl.when(\n",
    "        pl.col(\"author\").is_null() |\n",
    "        (pl.col(\"author\") == \"n/a\") |\n",
    "        (pl.col(\"author\") == \"Not Applicable (Na )\")\n",
    "    )\n",
    "    .then(pl.lit(\"Unknown Author\"))\n",
    "    .otherwise(pl.col(\"author\"))\n",
    "    .alias(\"author\")\n",
    ")\n",
    "\n",
    "# Diagnostic: Verify the results AFTER cleaning\n",
    "unknown_author_count = books.filter(pl.col(\"author\") == \"Unknown Author\").shape[0]\n",
    "null_authors_after = books.filter(pl.col(\"author\").is_null()).shape[0]\n",
    "\n",
    "print(\"\\n--- After Cleaning ---\")\n",
    "print(f\"Total rows with author as 'Unknown Author': {unknown_author_count}\")\n",
    "print(f\"Verification: Null authors remaining: {null_authors_after}\")\n",
    "\n",
    "if total_to_clean == unknown_author_count:\n",
    "    print(\"\\nSuccess: The number of 'Unknown Author' rows matches the number of rows that needed cleaning.\")\n",
    "else:\n",
    "    print(\"\\nWarning: Mismatch in counts. Please review the cleaning logic.\")"
   ]
  },
  {
   "cell_type": "code",
   "execution_count": 7,
   "id": "699e199f",
   "metadata": {},
   "outputs": [
    {
     "name": "stdout",
     "output_type": "stream",
     "text": [
      "--- Performing Optimized Book Deduplication ---\n",
      "Applying advanced junk character rules...\n",
      "Dropped 38343 books for exceeding junk character threshold of 3.\n",
      "Applying optimized normalization for clustering...\n",
      "Grouping by normalized_author and clustering...\n"
     ]
    },
    {
     "name": "stderr",
     "output_type": "stream",
     "text": [
      "100%|██████████| 88936/88936 [00:02<00:00, 31637.58it/s]\n"
     ]
    },
    {
     "name": "stdout",
     "output_type": "stream",
     "text": [
      "Assigning cluster IDs...\n",
      "Enriching and forcing canonical_title from original title...\n",
      "\n",
      "Verification: Book count after initial filter: 233017, Final book count: 233017\n",
      "Success: The enrichment process was lossless.\n",
      "\n",
      "Deduplication and enrichment complete.\n"
     ]
    }
   ],
   "source": [
    "# Step 7: Advanced Book Deduplication\n",
    "\n",
    "print(\"--- Performing Optimized Book Deduplication ---\")\n",
    "\n",
    "# This cell identifies different editions of the same conceptual 'work' \n",
    "# and assigns them a unique 'work_id'. This is crucial for the recommendation model.\n",
    "\n",
    "JUNK_CHAR_PATTERN = re.compile(r'[^\\p{L}\\p{N}\\s]')\n",
    "JUNK_COUNT_THRESHOLD = 3\n",
    "\n",
    "def clean_and_assess_title(title: str):\n",
    "    \"\"\"Applies advanced cleaning rules and counts junk characters.\"\"\"\n",
    "    if not isinstance(title, str):\n",
    "        return {\"title_leading_cleaned\": \"\", \"junk_count\": 0}\n",
    "\n",
    "    junk_count = len(JUNK_CHAR_PATTERN.findall(title))\n",
    "    match = re.search(r'[\\p{L}\\p{N}]', title)\n",
    "    title_leading_cleaned = title[match.start():] if match else \"\"\n",
    "    return {\"title_leading_cleaned\": title_leading_cleaned, \"junk_count\": int(junk_count)}\n",
    "\n",
    "print(\"Applying advanced junk character rules...\")\n",
    "books = books.with_columns(pl.col(\"title\").cast(pl.Utf8))\n",
    "\n",
    "# 1. Add helper columns for junk count and cleaned title\n",
    "books = books.with_columns(\n",
    "    pl.col(\"title\").map_elements(\n",
    "        clean_and_assess_title,\n",
    "        return_dtype=pl.Struct([\n",
    "            pl.Field(\"title_leading_cleaned\", pl.Utf8),\n",
    "            pl.Field(\"junk_count\", pl.Int64),\n",
    "        ])\n",
    "    ).alias(\"cleaned_data\")\n",
    ").unnest(\"cleaned_data\")\n",
    "\n",
    "# 2. Filter the DataFrame directly based on the new junk_count column\n",
    "initial_count = books.shape[0]\n",
    "books = books.filter(pl.col(\"junk_count\") <= JUNK_COUNT_THRESHOLD)\n",
    "dropped_count = initial_count - books.shape[0]\n",
    "print(f\"Dropped {dropped_count} books for exceeding junk character threshold of {JUNK_COUNT_THRESHOLD}.\")\n",
    "\n",
    "# 3. Update the 'title' column with the cleaner version and drop helper columns\n",
    "books = books.with_columns(\n",
    "    pl.col(\"title_leading_cleaned\").alias(\"title\")\n",
    ").drop([\"title_leading_cleaned\", \"junk_count\"])\n",
    "\n",
    "\n",
    "SIMILARITY_THRESHOLD = 0.95\n",
    "TITLE_CLEANUP_PATTERN = re.compile(r'\\s*[\\(\\[].*?[\\)\\]]\\s*')\n",
    "WHITESPACE_PATTERN = re.compile(r'\\s+')\n",
    "EDITION_KEYWORDS = {'paperback', 'hardcover', 'annotated', 'illustrated', 'edition'}\n",
    "\n",
    "def repair_text_encoding(text: str) -> str:\n",
    "    if not isinstance(text, str): return \"\"\n",
    "    try: return text.encode('latin1').decode('utf-8')\n",
    "    except (UnicodeEncodeError, UnicodeDecodeError): return text\n",
    "\n",
    "def normalize_author(author: str) -> str:\n",
    "    if not isinstance(author, str): return \"\"\n",
    "    author = repair_text_encoding(author).lower()\n",
    "    if ',' in author:\n",
    "        parts = [p.strip() for p in author.split(',')]; author = f\"{parts[1]} {parts[0]}\" if len(parts) > 1 else parts[0]\n",
    "    author = author.replace('.', ''); author = WHITESPACE_PATTERN.sub(' ', author).strip()\n",
    "    return author\n",
    "\n",
    "def normalize_title(title: str) -> str:\n",
    "    if not isinstance(title, str): return \"\"\n",
    "    title = repair_text_encoding(title).lower()\n",
    "    title = TITLE_CLEANUP_PATTERN.sub(' ', title).strip()\n",
    "    title = title.split(':')[0].strip()\n",
    "    for keyword in EDITION_KEYWORDS:\n",
    "        title = title.replace(keyword, '')\n",
    "    title = JUNK_CHAR_PATTERN.sub('', title)\n",
    "    title = WHITESPACE_PATTERN.sub(' ', title).strip()\n",
    "    return title\n",
    "\n",
    "def get_title_clusters_optimized(titles: list[str], threshold: float) -> dict[str, int]:\n",
    "    if not titles: return {}\n",
    "    unique_titles = list(set(titles))\n",
    "    if len(unique_titles) <= 1: return {unique_titles[0]: 0} if unique_titles else {}\n",
    "    parent = {title: title for title in unique_titles}\n",
    "    def find(x):\n",
    "        if parent[x] != x: parent[x] = find(parent[x])\n",
    "        return parent[x]\n",
    "    def union(x, y):\n",
    "        px, py = find(x), find(y)\n",
    "        if px != py: parent[px] = py\n",
    "    n = len(unique_titles)\n",
    "    for i in range(n):\n",
    "        for j in range(i + 1, n):\n",
    "            title1, title2 = unique_titles[i], unique_titles[j]\n",
    "            if jellyfish.jaro_winkler_similarity(title1, title2) >= threshold:\n",
    "                union(title1, title2)\n",
    "    clusters = {}; cluster_id = 0\n",
    "    for title in unique_titles:\n",
    "        root = find(title)\n",
    "        if root not in clusters: clusters[root] = cluster_id; cluster_id += 1\n",
    "        clusters[title] = clusters[root]\n",
    "    return clusters\n",
    "\n",
    "print(\"Applying optimized normalization for clustering...\")\n",
    "books = books.with_columns(pl.col(\"author\").cast(pl.Utf8), pl.col(\"title\").cast(pl.Utf8))\n",
    "books_temp = books.with_columns([\n",
    "    pl.col(\"author\").map_elements(normalize_author, return_dtype=pl.Utf8).alias(\"normalized_author\"),\n",
    "    pl.col(\"title\").map_elements(normalize_title, return_dtype=pl.Utf8).alias(\"normalized_title\")\n",
    "])\n",
    "print(\"Grouping by normalized_author and clustering...\")\n",
    "author_groups = books_temp.group_by(\"normalized_author\").agg(pl.col(\"normalized_title\").unique())\n",
    "cluster_results = []\n",
    "for norm_author, titles_list in tqdm(author_groups.iter_rows(), total=len(author_groups)):\n",
    "    title_to_cluster = get_title_clusters_optimized(titles_list, SIMILARITY_THRESHOLD)\n",
    "    for norm_title, cluster_id in title_to_cluster.items():\n",
    "        unique_cluster_id = f\"{norm_author}_{cluster_id}\"\n",
    "        cluster_results.append({\"normalized_title\": norm_title, \"normalized_author\": norm_author, \"cluster_id\": unique_cluster_id})\n",
    "cluster_df = pl.DataFrame(cluster_results)\n",
    "print(\"Assigning cluster IDs...\")\n",
    "books_with_clusters = books_temp.join(cluster_df, on=[\"normalized_title\", \"normalized_author\"], how=\"left\")\n",
    "books_with_clusters = books_with_clusters.with_columns(\n",
    "    pl.when(pl.col(\"cluster_id\").is_null())\n",
    "      .then(pl.col(\"normalized_title\") + \"_\" + pl.col(\"normalized_author\"))\n",
    "      .otherwise(pl.col(\"cluster_id\"))\n",
    "      .alias(\"cluster_id\")\n",
    ")\n",
    "author_counts = books_with_clusters.group_by([\"cluster_id\", \"author\"]).agg(pl.count().alias(\"cnt\"))\n",
    "max_author_counts = author_counts.group_by(\"cluster_id\").agg(pl.col(\"cnt\").max().alias(\"max_cnt\"))\n",
    "author_top = author_counts.join(max_author_counts, on=\"cluster_id\").filter(pl.col(\"cnt\") == pl.col(\"max_cnt\"))\n",
    "author_top = author_top.with_columns(pl.col(\"author\").map_elements(lambda s: len(s) if s else 0, return_dtype=pl.Int64).alias(\"alen\"))\n",
    "author_top = author_top.sort([\"cluster_id\", \"alen\"], descending=[False, False]).group_by(\"cluster_id\", maintain_order=True).first().select([\"cluster_id\", pl.col(\"author\").alias(\"canonical_author\")])\n",
    "canonical_authors = author_top\n",
    "title_counts = books_with_clusters.group_by([\"cluster_id\", \"title\"]).agg(pl.count().alias(\"cnt\"))\n",
    "max_title_counts = title_counts.group_by(\"cluster_id\").agg(pl.col(\"cnt\").max().alias(\"max_cnt\"))\n",
    "title_top = title_counts.join(max_title_counts, on=\"cluster_id\").filter(pl.col(\"cnt\") == pl.col(\"max_cnt\"))\n",
    "title_top = title_top.with_columns(pl.col(\"title\").map_elements(lambda s: len(s) if s else 0, return_dtype=pl.Int64).alias(\"tlen\"))\n",
    "title_top = title_top.sort([\"cluster_id\", \"tlen\"], descending=[False, False]).group_by(\"cluster_id\", maintain_order=True).first().select([\"cluster_id\", pl.col(\"title\").alias(\"representative_title\")])\n",
    "representative_titles = title_top\n",
    "works_meta = canonical_authors.join(representative_titles.rename({\"representative_title\": \"rep_title\"}), on=\"cluster_id\", how=\"left\")\n",
    "works_meta = works_meta.with_row_count(name=\"work_id\")\n",
    "print(\"Enriching and forcing canonical_title from original title...\")\n",
    "books_final = books_with_clusters.join(works_meta, on=\"cluster_id\", how=\"left\")\n",
    "books_final = books_final.with_columns(\n",
    "    pl.col(\"title\").map_elements(lambda s: (repair_text_encoding(s).split('(', 1)[0].strip()) if isinstance(s, str) else \"\", return_dtype=pl.Utf8).alias(\"canonical_title\")\n",
    ")\n",
    "books_final = books_final.with_columns(pl.when(pl.col(\"canonical_author\").is_null()).then(pl.col(\"author\")).otherwise(pl.col(\"canonical_author\")).alias(\"canonical_author\"))\n",
    "final_cols = ['isbn', 'title', 'author', 'yop', 'publisher', 'work_id', 'canonical_title', 'canonical_author', 'image_s', 'image_m', 'image_l']\n",
    "books_final = books_final.select([c for c in final_cols if c in books_final.columns])\n",
    "isbn_to_work_id = books_final.select([\"isbn\", \"work_id\"])\n",
    "initial_book_count_after_filter = books.shape[0]\n",
    "final_book_count = books_final.shape[0]\n",
    "print(f\"\\nVerification: Book count after initial filter: {initial_book_count_after_filter}, Final book count: {final_book_count}\")\n",
    "if initial_book_count_after_filter != final_book_count:\n",
    "    print(\"ERROR: Rows were lost during enrichment!\")\n",
    "else:\n",
    "    print(\"Success: The enrichment process was lossless.\")\n",
    "books = books_final\n",
    "print(\"\\nDeduplication and enrichment complete.\")"
   ]
  },
  {
   "cell_type": "code",
   "execution_count": 8,
   "id": "2a691316",
   "metadata": {},
   "outputs": [
    {
     "name": "stdout",
     "output_type": "stream",
     "text": [
      "--- Filtering Out Implicit Feedback (Zero Ratings) ---\n",
      "Total ratings before filtering: 1149780\n",
      "> Removed 716109 zero-rating rows (62.28% of the total).\n",
      "Total explicit ratings remaining: 433671\n",
      "\n",
      "'ratings' DataFrame now contains only explicit ratings (1-10).\n"
     ]
    }
   ],
   "source": [
    "# Step 8: Filtering Implicit Ratings\n",
    "\n",
    "print(\"--- Filtering Out Implicit Feedback (Zero Ratings) ---\")\n",
    "\n",
    "# In this dataset, a rating of 0 indicates the user read the book but provided no explicit rating.\n",
    "# For a collaborative filtering model based on explicit feedback, we remove these.\n",
    "initial_rows = ratings.shape[0]\n",
    "print(f\"Total ratings before filtering: {initial_rows}\")\n",
    "\n",
    "# The Filtering Operation\n",
    "ratings = ratings.filter(pl.col(\"rating\") > 0)\n",
    "\n",
    "final_rows = ratings.shape[0]\n",
    "rows_removed = initial_rows - final_rows\n",
    "percent_removed = (rows_removed / initial_rows) * 100\n",
    "\n",
    "print(f\"> Removed {rows_removed} zero-rating rows ({percent_removed:.2f}% of the total).\")\n",
    "print(f\"Total explicit ratings remaining: {final_rows}\")\n",
    "\n",
    "print(\"\\n'ratings' DataFrame now contains only explicit ratings (1-10).\")"
   ]
  },
  {
   "cell_type": "code",
   "execution_count": 9,
   "id": "ee722c28",
   "metadata": {},
   "outputs": [
    {
     "name": "stdout",
     "output_type": "stream",
     "text": [
      "--- Mapping Ratings to Master Works and Aggregating Interaction Data ---\n",
      "Mapped ratings to work_ids. Total interactions to process: 334993\n",
      "\n",
      "Consolidated ratings for duplicate book editions.\n",
      "Collapsed 334993 raw interactions into 332709 unique user-work interactions.\n",
      "Redundant interactions removed: 2284\n",
      "\n",
      "Final 'ratings' DataFrame now includes 'rating_count' for potential weighting.\n",
      "\n",
      "Example of users with high interaction counts for a single work:\n",
      "shape: (5, 4)\n",
      "┌─────────┬─────────┬────────┬──────────────┐\n",
      "│ user_id ┆ work_id ┆ rating ┆ rating_count │\n",
      "│ ---     ┆ ---     ┆ ---    ┆ ---          │\n",
      "│ i64     ┆ u32     ┆ i64    ┆ u32          │\n",
      "╞═════════╪═════════╪════════╪══════════════╡\n",
      "│ 78973   ┆ 54087   ┆ 7      ┆ 10           │\n",
      "│ 94242   ┆ 150972  ┆ 9      ┆ 10           │\n",
      "│ 209464  ┆ 136567  ┆ 10     ┆ 9            │\n",
      "│ 156111  ┆ 104991  ┆ 10     ┆ 9            │\n",
      "│ 63714   ┆ 132713  ┆ 10     ┆ 8            │\n",
      "└─────────┴─────────┴────────┴──────────────┘\n"
     ]
    }
   ],
   "source": [
    "# Step 9: Consolidating Ratings by Work ID\n",
    "\n",
    "print(\"--- Mapping Ratings to Master Works and Aggregating Interaction Data ---\")\n",
    "\n",
    "# 1. Map ratings from the original ISBN to our new integer work_id\n",
    "ratings = ratings.join(isbn_to_work_id, on=\"isbn\", how=\"inner\")\n",
    "\n",
    "initial_ratings_count = len(ratings)\n",
    "print(f\"Mapped ratings to work_ids. Total interactions to process: {initial_ratings_count}\")\n",
    "\n",
    "# 2. Consolidate ratings and count interactions\n",
    "# We group by user and work_id to handle cases where a user rated multiple editions of the same work.\n",
    "ratings_consolidated = ratings.group_by([\"user_id\", \"work_id\"]).agg(\n",
    "    pl.col(\"rating\").max().alias(\"rating\"),           # Strategy: Keep the user's highest rating for that work\n",
    "    pl.count().alias(\"rating_count\")                  # Also, count how many editions they interacted with\n",
    ")\n",
    "\n",
    "final_ratings_count = len(ratings_consolidated)\n",
    "ratings_removed = initial_ratings_count - final_ratings_count\n",
    "\n",
    "print(f\"\\nConsolidated ratings for duplicate book editions.\")\n",
    "print(f\"Collapsed {initial_ratings_count} raw interactions into {final_ratings_count} unique user-work interactions.\")\n",
    "print(f\"Redundant interactions removed: {ratings_removed}\")\n",
    "\n",
    "# Overwrite with the final, clean ratings table\n",
    "ratings = ratings_consolidated\n",
    "\n",
    "print(f\"\\nFinal 'ratings' DataFrame now includes 'rating_count' for potential weighting.\")\n",
    "print(\"\\nExample of users with high interaction counts for a single work:\")\n",
    "print(ratings.filter(pl.col(\"rating_count\") > 1).sort(\"rating_count\", descending=True).head())"
   ]
  },
  {
   "cell_type": "code",
   "execution_count": 10,
   "id": "19325edf",
   "metadata": {},
   "outputs": [
    {
     "name": "stdout",
     "output_type": "stream",
     "text": [
      "Engineering 'age' into 8 quantile-based bins...\n",
      "\n",
      "Distribution of Quantile Age Bins:\n",
      "shape: (9, 4)\n",
      "┌─────────┬────────┬────────────────┬────────────────┐\n",
      "│ age_bin ┆ count  ┆ min_age_in_bin ┆ max_age_in_bin │\n",
      "│ ---     ┆ ---    ┆ ---            ┆ ---            │\n",
      "│ cat     ┆ u32    ┆ f64            ┆ f64            │\n",
      "╞═════════╪════════╪════════════════╪════════════════╡\n",
      "│ Unknown ┆ 110762 ┆ null           ┆ null           │\n",
      "│ q1      ┆ 24019  ┆ 0.0            ┆ 20.0           │\n",
      "│ q2      ┆ 20295  ┆ 21.0           ┆ 24.0           │\n",
      "│ q3      ┆ 21895  ┆ 25.0           ┆ 28.0           │\n",
      "│ q4      ┆ 19517  ┆ 29.0           ┆ 32.0           │\n",
      "│ q5      ┆ 21027  ┆ 33.0           ┆ 37.0           │\n",
      "│ q6      ┆ 21018  ┆ 38.0           ┆ 44.0           │\n",
      "│ q7      ┆ 21012  ┆ 45.0           ┆ 53.0           │\n",
      "│ q8      ┆ 19313  ┆ 54.0           ┆ 244.0          │\n",
      "└─────────┴────────┴────────────────┴────────────────┘\n",
      "\n",
      "Engineering location features (city, state, country)...\n",
      "\n",
      "--- Final Cleaned Users DataFrame ---\n",
      "shape: (5, 6)\n",
      "┌─────────┬─────────────────────────────────┬─────────┬─────────────┬──────────────┬──────────────┐\n",
      "│ user_id ┆ loc                             ┆ age_bin ┆ country     ┆ state        ┆ city         │\n",
      "│ ---     ┆ ---                             ┆ ---     ┆ ---         ┆ ---          ┆ ---          │\n",
      "│ i64     ┆ str                             ┆ cat     ┆ str         ┆ str          ┆ str          │\n",
      "╞═════════╪═════════════════════════════════╪═════════╪═════════════╪══════════════╪══════════════╡\n",
      "│ 219590  ┆ lake stevens, washington, usa   ┆ q8      ┆ usa         ┆ washington   ┆ lake stevens │\n",
      "│ 90861   ┆ alicante, alicante, spain       ┆ q3      ┆ spain       ┆ alicante     ┆ alicante     │\n",
      "│ 231791  ┆ wichmond, gelderland, netherla… ┆ q6      ┆ netherlands ┆ gelderland   ┆ wichmond     │\n",
      "│ 20213   ┆ el palomar, buenos aires, arge… ┆ q2      ┆ argentina   ┆ buenos aires ┆ el palomar   │\n",
      "│ 273580  ┆ grover beach, california, usa   ┆ q1      ┆ usa         ┆ california   ┆ grover beach │\n",
      "└─────────┴─────────────────────────────────┴─────────┴─────────────┴──────────────┴──────────────┘\n"
     ]
    }
   ],
   "source": [
    "# Step 10: User Feature Engineering\n",
    "\n",
    "def engineer_user_age_quantile_bins(df: pl.DataFrame, n_quantiles: int = 8) -> pl.DataFrame:\n",
    "    \"\"\"\n",
    "    Converts the continuous 'age' column into discrete bins based on quantiles.\n",
    "    This method is data-driven, ensuring each bin has a similar number of users.\n",
    "    \"\"\"\n",
    "    print(f\"Engineering 'age' into {n_quantiles} quantile-based bins...\")\n",
    "\n",
    "    # Ensure age is numeric, coercing errors to null\n",
    "    df = df.with_columns(pl.col(\"age\").cast(pl.Float64, strict=False))\n",
    "\n",
    "    # Separate users with and without age data\n",
    "    known_age_df = df.filter(pl.col(\"age\").is_not_null())\n",
    "    unknown_age_df = df.filter(pl.col(\"age\").is_null())\n",
    "\n",
    "    # Use qcut to create quantile bins for users with known age\n",
    "    known_age_df = known_age_df.with_columns(\n",
    "        pl.col(\"age\").qcut(n_quantiles, labels=[f\"q{i+1}\" for i in range(n_quantiles)]).alias(\"age_bin\")\n",
    "    )\n",
    "    \n",
    "    # Assign a dedicated 'Unknown' category for the rest\n",
    "    unknown_age_df = unknown_age_df.with_columns(\n",
    "        pl.lit(\"Unknown\").cast(pl.Categorical).alias(\"age_bin\")\n",
    "    )\n",
    "\n",
    "    # Combine the dataframes back together\n",
    "    final_df = pl.concat([known_age_df, unknown_age_df])\n",
    "\n",
    "    # Display diagnostics about the created bins\n",
    "    age_ranges = final_df.group_by(\"age_bin\").agg(\n",
    "        count=pl.count(),\n",
    "        min_age_in_bin=pl.col(\"age\").min(),\n",
    "        max_age_in_bin=pl.col(\"age\").max()\n",
    "    ).sort(\"age_bin\")\n",
    "    \n",
    "    print(\"\\nDistribution of Quantile Age Bins:\")\n",
    "    print(age_ranges)\n",
    "\n",
    "    # Drop the original age column\n",
    "    return final_df.drop(\"age\")\n",
    "\n",
    "def safe_get(lst, index, default=None):\n",
    "    \"\"\"Safely gets an element from a list by index, stripping whitespace.\"\"\"\n",
    "    try:\n",
    "        element = lst[index]\n",
    "        return element.strip() if element else default\n",
    "    except (IndexError, AttributeError):\n",
    "        return default\n",
    "\n",
    "def engineer_user_location(df: pl.DataFrame) -> pl.DataFrame:\n",
    "    \"\"\"Parses the 'loc' string into city, state, and country columns.\"\"\"\n",
    "    print(\"\\nEngineering location features (city, state, country)...\")\n",
    "    df_with_parts = df.with_columns(pl.col(\"loc\").str.split(by=\",\").alias(\"loc_parts\"))\n",
    "    return df_with_parts.with_columns(\n",
    "        pl.col(\"loc_parts\").map_elements(lambda lst: safe_get(lst, -1), return_dtype=pl.String).alias(\"country\"),\n",
    "        pl.col(\"loc_parts\").map_elements(lambda lst: safe_get(lst, -2), return_dtype=pl.String).alias(\"state\"),\n",
    "        pl.col(\"loc_parts\").map_elements(lambda lst: safe_get(lst, -3), return_dtype=pl.String).alias(\"city\"),\n",
    "    ).drop(\"loc_parts\")\n",
    "\n",
    "# --- Execute the full user data processing pipeline ---\n",
    "users = users.pipe(engineer_user_age_quantile_bins).pipe(engineer_user_location)\n",
    "\n",
    "print(\"\\n--- Final Cleaned Users DataFrame ---\")\n",
    "print(users.head())"
   ]
  },
  {
   "cell_type": "code",
   "execution_count": 11,
   "id": "537a3039",
   "metadata": {},
   "outputs": [
    {
     "name": "stdout",
     "output_type": "stream",
     "text": [
      "\n",
      "--- Diagnostic Check for 'yop' Column ---\n",
      "Total book records: 233017\n",
      "Number of books with missing yop: 4548\n",
      "Percentage of books with missing yop: 1.95%\n",
      "\n",
      "Decision: Missing yop percentage (1.95%) is acceptable. Proceeding with median imputation.\n",
      "Median year for imputation: 1995\n",
      "\n",
      "--- 'yop' column cleaned and imputed. ---\n"
     ]
    }
   ],
   "source": [
    "# Step 11: Cleaning Book Publication Year\n",
    "\n",
    "# 1. Clean and standardize the 'yop' (Year of Publication) column\n",
    "# Coerce 'yop' to integer, making errors null\n",
    "books_temp = books.with_columns(\n",
    "    pl.col(\"yop\").cast(pl.Int64, strict=False)\n",
    ")\n",
    "# Identify and nullify illogical years (e.g., 0 or future years)\n",
    "current_year = 2024 \n",
    "books_temp = books_temp.with_columns(\n",
    "    pl.when((pl.col(\"yop\") == 0) | (pl.col(\"yop\") > current_year))\n",
    "    .then(None)\n",
    "    .otherwise(pl.col(\"yop\"))\n",
    "    .alias(\"yop\")\n",
    ")\n",
    "\n",
    "# 2. Diagnostic Check for Year of Publication\n",
    "print(\"\\n--- Diagnostic Check for 'yop' Column ---\")\n",
    "total_books = len(books_temp)\n",
    "missing_yop = books_temp['yop'].is_null().sum()\n",
    "missing_yop_pct = (missing_yop / total_books) * 100\n",
    "\n",
    "print(f\"Total book records: {total_books}\")\n",
    "print(f\"Number of books with missing yop: {missing_yop}\")\n",
    "print(f\"Percentage of books with missing yop: {missing_yop_pct:.2f}%\")\n",
    "\n",
    "# 3. Imputation Strategy\n",
    "# Since the percentage of missing yop is low, median imputation is a safe choice.\n",
    "YOP_MISSING_THRESHOLD = 50.0 \n",
    "if missing_yop_pct > YOP_MISSING_THRESHOLD:\n",
    "    print(f\"\\nDecision: Missing yop percentage ({missing_yop_pct:.2f}%) is too high. Dropping the 'yop' column.\")\n",
    "    books = books_temp.drop(\"yop\")\n",
    "else:\n",
    "    print(f\"\\nDecision: Missing yop percentage ({missing_yop_pct:.2f}%) is acceptable. Proceeding with median imputation.\")\n",
    "    median_year = books_temp[\"yop\"].median()\n",
    "    print(f\"Median year for imputation: {median_year:.0f}\")\n",
    "    books = books_temp.with_columns(\n",
    "        pl.col(\"yop\").fill_null(median_year).cast(pl.Int32)\n",
    "    )\n",
    "\n",
    "print(\"\\n--- 'yop' column cleaned and imputed. ---\")"
   ]
  },
  {
   "cell_type": "code",
   "execution_count": 12,
   "id": "c63d7353",
   "metadata": {},
   "outputs": [
    {
     "name": "stdout",
     "output_type": "stream",
     "text": [
      "\n",
      "Visualizing user distribution by engineered age bins...\n"
     ]
    },
    {
     "data": {
      "image/png": "[encoded data removed]",
      "text/plain": [
       "<Figure size 1000x600 with 1 Axes>"
      ]
     },
     "metadata": {},
     "output_type": "display_data"
    },
    {
     "name": "stdout",
     "output_type": "stream",
     "text": [
      "\n",
      "Visualizing user distribution by top 15 countries...\n"
     ]
    },
    {
     "data": {
      "image/png": "[encoded data removed]",
      "text/plain": [
       "<Figure size 1200x800 with 1 Axes>"
      ]
     },
     "metadata": {},
     "output_type": "display_data"
    }
   ],
   "source": [
    "# Step 12: Visualizing User Demographics\n",
    "\n",
    "sns.set_style(\"whitegrid\")\n",
    "\n",
    "# Plotting User Distribution by Age Bin\n",
    "print(\"\\nVisualizing user distribution by engineered age bins...\")\n",
    "age_bin_counts = users['age_bin'].value_counts().sort(\"age_bin\")\n",
    "plt.figure(figsize=(10, 6))\n",
    "sns.barplot(x=age_bin_counts['age_bin'], y=age_bin_counts['count'], palette=\"coolwarm\")\n",
    "plt.title('User Distribution by Age Bin', fontsize=15)\n",
    "plt.xlabel('Age Bin', fontsize=12)\n",
    "plt.ylabel('Number of Users', fontsize=12)\n",
    "plt.show()\n",
    "\n",
    "# Plotting User Distribution by Top 15 Countries\n",
    "print(\"\\nVisualizing user distribution by top 15 countries...\")\n",
    "top_countries = users['country'].value_counts().sort('count', descending=True).head(15)\n",
    "plt.figure(figsize=(12, 8))\n",
    "sns.barplot(y=top_countries['country'], x=top_countries['count'], palette=\"inferno\", orient='h')\n",
    "plt.title('Top 15 Countries by Number of Users', fontsize=15)\n",
    "plt.xlabel('Number of Users', fontsize=12)\n",
    "plt.ylabel('Country', fontsize=12)\n",
    "plt.tight_layout()\n",
    "plt.show()"
   ]
  },
  {
   "cell_type": "code",
   "execution_count": 13,
   "id": "6ade1061",
   "metadata": {},
   "outputs": [
    {
     "name": "stdout",
     "output_type": "stream",
     "text": [
      "--- Visualizing the Enriched and Deduplicated Book Catalog ---\n",
      "\n",
      "Visualizing unique work distribution by Year of Publication...\n"
     ]
    },
    {
     "data": {
      "image/png": "[encoded data removed]",
      "text/plain": [
       "<Figure size 1200x600 with 1 Axes>"
      ]
     },
     "metadata": {},
     "output_type": "display_data"
    },
    {
     "name": "stdout",
     "output_type": "stream",
     "text": [
      "\n",
      "Visualizing top 15 authors by number of unique conceptual works...\n"
     ]
    },
    {
     "data": {
      "image/png": "[encoded data removed]",
      "text/plain": [
       "<Figure size 1200x800 with 1 Axes>"
      ]
     },
     "metadata": {},
     "output_type": "display_data"
    },
    {
     "name": "stdout",
     "output_type": "stream",
     "text": [
      "\n",
      "Visualizing top 15 publishers by number of unique conceptual works...\n"
     ]
    },
    {
     "data": {
      "image/png": "[encoded data removed]",
      "text/plain": [
       "<Figure size 1200x800 with 1 Axes>"
      ]
     },
     "metadata": {},
     "output_type": "display_data"
    }
   ],
   "source": [
    "# Step 13: Visualizing the Book Catalog\n",
    "\n",
    "print(\"--- Visualizing the Enriched and Deduplicated Book Catalog ---\")\n",
    "\n",
    "sns.set_style(\"whitegrid\")\n",
    "\n",
    "# Create a DataFrame of unique works to prevent over-counting due to multiple editions\n",
    "unique_works = books.unique(subset=['work_id'])\n",
    "\n",
    "# Plotting Unique Work Distribution by Year of Publication\n",
    "print(\"\\nVisualizing unique work distribution by Year of Publication...\")\n",
    "plt.figure(figsize=(12, 6))\n",
    "sns.histplot(data=unique_works, x='yop', bins=50, kde=True, color='skyblue')\n",
    "plt.title('Distribution of Unique Works by Year of Publication', fontsize=15)\n",
    "plt.xlabel('Year of Publication', fontsize=12)\n",
    "plt.ylabel('Number of Unique Works', fontsize=12)\n",
    "plt.show()\n",
    "\n",
    "# Plotting Top 15 Authors by Number of Unique Works\n",
    "print(\"\\nVisualizing top 15 authors by number of unique conceptual works...\")\n",
    "top_authors = unique_works['canonical_author'].value_counts().sort('count', descending=True).head(15)\n",
    "\n",
    "plt.figure(figsize=(12, 8))\n",
    "sns.barplot(y=top_authors['canonical_author'], x=top_authors['count'], palette=\"rocket\", orient='h')\n",
    "plt.title('Top 15 Authors by Number of Unique Works', fontsize=15)\n",
    "plt.xlabel('Number of Unique Works', fontsize=12)\n",
    "plt.ylabel('Canonical Author', fontsize=12)\n",
    "plt.tight_layout()\n",
    "plt.show()\n",
    "\n",
    "# Plotting Top 15 Publishers by Number of Unique Works\n",
    "print(\"\\nVisualizing top 15 publishers by number of unique conceptual works...\")\n",
    "top_publishers = unique_works['publisher'].value_counts().sort('count', descending=True).head(15)\n",
    "\n",
    "plt.figure(figsize=(12, 8))\n",
    "sns.barplot(y=top_publishers['publisher'], x=top_publishers['count'], palette=\"mako\", orient='h')\n",
    "plt.title('Top 15 Publishers by Number of Unique Works', fontsize=15)\n",
    "plt.xlabel('Number of Unique Works', fontsize=12)\n",
    "plt.ylabel('Publisher', fontsize=12)\n",
    "plt.tight_layout()\n",
    "plt.show()"
   ]
  },
  {
   "cell_type": "code",
   "execution_count": 14,
   "id": "088127ff",
   "metadata": {},
   "outputs": [
    {
     "name": "stdout",
     "output_type": "stream",
     "text": [
      "--- Visualizing the Final, Cleaned Ratings Distribution ---\n"
     ]
    },
    {
     "data": {
      "image/png": "[encoded data removed]",
      "text/plain": [
       "<Figure size 1000x600 with 1 Axes>"
      ]
     },
     "metadata": {},
     "output_type": "display_data"
    }
   ],
   "source": [
    "# Step 14: Visualizing Ratings Distribution\n",
    "\n",
    "print(\"--- Visualizing the Final, Cleaned Ratings Distribution ---\")\n",
    "\n",
    "sns.set_style(\"whitegrid\")\n",
    "plt.figure(figsize=(10, 6))\n",
    "\n",
    "# The 'ratings' DataFrame now only contains explicit, consolidated ratings\n",
    "explicit_rating_counts = ratings['rating'].value_counts().sort(\"rating\")\n",
    "sns.barplot(x=explicit_rating_counts['rating'], y=explicit_rating_counts['count'], palette=\"plasma\")\n",
    "\n",
    "plt.title('Distribution of Final Explicit User Ratings (1-10)', fontsize=15)\n",
    "plt.xlabel('Rating', fontsize=12)\n",
    "plt.ylabel('Number of Consolidated Ratings', fontsize=12)\n",
    "plt.show()"
   ]
  },
  {
   "cell_type": "code",
   "execution_count": 15,
   "id": "50ff3bb6",
   "metadata": {},
   "outputs": [
    {
     "name": "stdout",
     "output_type": "stream",
     "text": [
      "--- Unifying Data into the Final `interactions` Table ---\n",
      "Creating a temporary, unique 'works' table for joining...\n",
      "Success: `works_for_join` created with 194016 unique works.\n",
      "\n",
      "Joining ratings, users, and works data...\n",
      "Initial ratings shape: (332709, 4)\n",
      "Shape after joining with users: (332709, 9)\n",
      "Final shape after joining with works: (332709, 19)\n",
      "\n",
      "--- Merging Complete ---\n",
      "Final shape of the `interactions` DataFrame: (332709, 12)\n",
      "\n",
      "Creating user history map (user_id -> set of work_ids)...\n",
      "Created history for 63616 users.\n"
     ]
    }
   ],
   "source": [
    "# Step 15: Creating the Final Interactions DataFrame\n",
    "\n",
    "print(\"--- Unifying Data into the Final `interactions` Table ---\")\n",
    "\n",
    "# To avoid a \"join explosion\" from multiple book editions, we first create a\n",
    "# temporary table with one unique entry per work_id.\n",
    "print(\"Creating a temporary, unique 'works' table for joining...\")\n",
    "works_for_join = books.unique(subset=['work_id'], keep='first')\n",
    "\n",
    "# Verify uniqueness as a sanity check\n",
    "if works_for_join.shape[0] != works_for_join['work_id'].n_unique():\n",
    "    print(\"CRITICAL ERROR: The temporary works table is not unique by work_id!\")\n",
    "else:\n",
    "    print(f\"Success: `works_for_join` created with {works_for_join.shape[0]} unique works.\")\n",
    "\n",
    "# Now, join our core ratings with the feature tables using 'inner' joins for data integrity.\n",
    "print(\"\\nJoining ratings, users, and works data...\")\n",
    "print(f\"Initial ratings shape: {ratings.shape}\")\n",
    "\n",
    "interactions = ratings.join(users, on=\"user_id\", how=\"inner\")\n",
    "print(f\"Shape after joining with users: {interactions.shape}\")\n",
    "\n",
    "interactions = interactions.join(works_for_join, on=\"work_id\", how=\"inner\")\n",
    "print(f\"Final shape after joining with works: {interactions.shape}\")\n",
    "\n",
    "# Reorder columns for better readability\n",
    "final_schema_cols = [\n",
    "    'user_id', 'work_id', 'rating', 'rating_count', 'age_bin', 'country',\n",
    "    'canonical_title', 'canonical_author', 'publisher', 'yop', 'image_m', 'image_l'\n",
    "]\n",
    "interactions = interactions.select([col for col in final_schema_cols if col in interactions.columns])\n",
    "\n",
    "print(\"\\n--- Merging Complete ---\")\n",
    "print(f\"Final shape of the `interactions` DataFrame: {interactions.shape}\")\n",
    "\n",
    "# This map is useful later for filtering out items a user has already seen\n",
    "print(\"\\nCreating user history map (user_id -> set of work_ids)...\")\n",
    "user_history_df = interactions.group_by(\"user_id\").agg(pl.col(\"work_id\"))\n",
    "user_history = {row[0]: set(row[1]) for row in user_history_df.iter_rows()}\n",
    "print(f\"Created history for {len(user_history)} users.\")"
   ]
  },
  {
   "cell_type": "code",
   "execution_count": 16,
   "id": "e00699e6",
   "metadata": {},
   "outputs": [
    {
     "name": "stdout",
     "output_type": "stream",
     "text": [
      "\n",
      "--- Diagnostics Before Filtering ---\n",
      "Initial number of interactions: 332709\n",
      "Initial number of unique users: 63616\n",
      "Initial number of unique items (works): 108752\n",
      "\n",
      "Applying filters: min 5 ratings/user, min 10 ratings/item...\n",
      "\n",
      "--- Diagnostics After Filtering ---\n",
      "Final number of interactions for the model: 82723\n",
      "Final number of unique users (core users): 5511\n",
      "Final number of unique items (core items): 3169\n",
      "\n",
      "Interactions removed: 249986\n",
      "Users removed: 58105\n",
      "Items removed: 105583\n",
      "\n",
      "--- Cold Start Population Analysis ---\n",
      "Total users in original catalog: 278858\n",
      "Users in the core model: 5511\n",
      "Number of COLD START users: 273347\n",
      "\n",
      "Total unique works in original catalog: 194016\n",
      "Works in the core model: 3169\n",
      "Number of COLD START items: 190847\n"
     ]
    }
   ],
   "source": [
    "# Step 16: Sparsity Filtering and Cold Start Analysis\n",
    "\n",
    "print(\"\\n--- Diagnostics Before Filtering ---\")\n",
    "initial_interactions = interactions.shape[0]\n",
    "initial_users = interactions['user_id'].n_unique()\n",
    "initial_items = interactions['work_id'].n_unique()\n",
    "\n",
    "print(f\"Initial number of interactions: {initial_interactions}\")\n",
    "print(f\"Initial number of unique users: {initial_users}\")\n",
    "print(f\"Initial number of unique items (works): {initial_items}\")\n",
    "\n",
    "# Iteratively filter out users and items with too few interactions until the dataset stabilizes.\n",
    "min_user_ratings = CONFIG.MIN_USER_RATINGS\n",
    "min_book_ratings = CONFIG.MIN_BOOK_RATINGS\n",
    "print(f\"\\nApplying filters: min {min_user_ratings} ratings/user, min {min_book_ratings} ratings/item...\")\n",
    "\n",
    "model_df = interactions\n",
    "while True:\n",
    "    prev_rows = model_df.shape[0]\n",
    "\n",
    "    # Filter by user activity\n",
    "    user_counts = model_df['user_id'].value_counts()\n",
    "    core_users = user_counts.filter(pl.col(\"count\") >= min_user_ratings)['user_id']\n",
    "    model_df = model_df.filter(pl.col(\"user_id\").is_in(core_users))\n",
    "\n",
    "    # Filter by item popularity\n",
    "    item_counts = model_df['work_id'].value_counts()\n",
    "    core_items = item_counts.filter(pl.col(\"count\") >= min_book_ratings)['work_id']\n",
    "    model_df = model_df.filter(pl.col(\"work_id\").is_in(core_items))\n",
    "\n",
    "    # If no rows were removed, the dataset is stable\n",
    "    if model_df.shape[0] == prev_rows:\n",
    "        break\n",
    "\n",
    "print(\"\\n--- Diagnostics After Filtering ---\")\n",
    "final_interactions = model_df.shape[0]\n",
    "final_users = model_df['user_id'].n_unique()\n",
    "final_items = model_df['work_id'].n_unique()\n",
    "\n",
    "print(f\"Final number of interactions for the model: {final_interactions}\")\n",
    "print(f\"Final number of unique users (core users): {final_users}\")\n",
    "print(f\"Final number of unique items (core items): {final_items}\")\n",
    "print(f\"\\nInteractions removed: {initial_interactions - final_interactions}\")\n",
    "print(f\"Users removed: {initial_users - final_users}\")\n",
    "print(f\"Items removed: {initial_items - final_items}\")\n",
    "\n",
    "print(\"\\n--- Cold Start Population Analysis ---\")\n",
    "\n",
    "# Identify users and items that did not make it into the core model dataset\n",
    "all_users_set = set(users['user_id'])\n",
    "all_items_set = set(books['work_id'])\n",
    "core_users_set = set(model_df['user_id'])\n",
    "core_items_set = set(model_df['work_id'])\n",
    "cold_start_users = all_users_set - core_users_set\n",
    "cold_start_items = all_items_set - core_items_set\n",
    "\n",
    "print(f\"Total users in original catalog: {len(all_users_set)}\")\n",
    "print(f\"Users in the core model: {len(core_users_set)}\")\n",
    "print(f\"Number of COLD START users: {len(cold_start_users)}\")\n",
    "\n",
    "print(f\"\\nTotal unique works in original catalog: {len(all_items_set)}\")\n",
    "print(f\"Works in the core model: {len(core_items_set)}\")\n",
    "print(f\"Number of COLD START items: {len(cold_start_items)}\")"
   ]
  },
  {
   "cell_type": "code",
   "execution_count": 17,
   "id": "54a535bd",
   "metadata": {},
   "outputs": [
    {
     "name": "stdout",
     "output_type": "stream",
     "text": [
      "Creating binary target: rating >= 8 is a positive interaction (1), otherwise negative (0).\n",
      "Target distribution:\n",
      "shape: (2, 2)\n",
      "┌────────┬───────┐\n",
      "│ target ┆ count │\n",
      "│ ---    ┆ ---   │\n",
      "│ i32    ┆ u32   │\n",
      "╞════════╪═══════╡\n",
      "│ 0      ┆ 29980 │\n",
      "│ 1      ┆ 52743 │\n",
      "└────────┴───────┘\n",
      "\n",
      "Engineering 'yop' into quantile-based bins...\n",
      "\n",
      "Label Encoding all categorical features...\n",
      "  - Encoded 'user_id': 5511 unique values.\n",
      "  - Encoded 'work_id': 3169 unique values.\n",
      "\n",
      "Generating optimized text embeddings for canonical titles...\n",
      "Loading pre-computed title embeddings...\n",
      "Loaded embeddings for 3169 titles. Shape: torch.Size([3169, 384])\n",
      "\n",
      "Splitting data into training and validation sets (80/20)...\n",
      "Training set size: 66178\n",
      "Validation set size: 16545\n",
      "\n",
      "Creating PyTorch DataLoaders for the Ranking Task...\n",
      "Data preparation is complete.\n"
     ]
    }
   ],
   "source": [
    "# Step 17: Preparing Data for the Ranking Model\n",
    "\n",
    "# Convert the explicit ratings into a binary target for our ranking task.\n",
    "POSITIVE_RATING_THRESHOLD = 8\n",
    "print(f\"Creating binary target: rating >= {POSITIVE_RATING_THRESHOLD} is a positive interaction (1), otherwise negative (0).\")\n",
    "model_df = model_df.with_columns(\n",
    "    pl.when(pl.col(\"rating\") >= POSITIVE_RATING_THRESHOLD).then(1).otherwise(0).alias(\"target\")\n",
    ")\n",
    "print(f\"Target distribution:\\n{model_df['target'].value_counts()}\")\n",
    "\n",
    "# Engineer 'yop' into quantile-based bins\n",
    "print(\"\\nEngineering 'yop' into quantile-based bins...\")\n",
    "model_df = model_df.with_columns(\n",
    "    pl.col(\"yop\").qcut(10, labels=[f\"yop_q{i+1}\" for i in range(10)], allow_duplicates=True).alias(\"yop_bin\")\n",
    ")\n",
    "\n",
    "# Label Encode all categorical features for the model embeddings\n",
    "print(\"\\nLabel Encoding all categorical features...\")\n",
    "categorical_cols = ['user_id', 'work_id', 'age_bin', 'country', 'canonical_author', 'publisher', 'yop_bin']\n",
    "encoders = {}\n",
    "for col in categorical_cols:\n",
    "    encoder = LabelEncoder()\n",
    "    model_df = model_df.with_columns(pl.Series(name=f\"{col}_encoded\", values=encoder.fit_transform(model_df[col].to_numpy())))\n",
    "    encoders[col] = encoder\n",
    "    if col in ['user_id', 'work_id']:\n",
    "        n_unique = len(encoder.classes_)\n",
    "        print(f\"  - Encoded '{col}': {n_unique} unique values.\")\n",
    "\n",
    "# Generate text embeddings for book titles\n",
    "print(\"\\nGenerating optimized text embeddings for canonical titles...\")\n",
    "\n",
    "# Check if embeddings already exist to avoid recomputation\n",
    "embeddings_path = os.path.join(PROCESSED_DATA_DIR, \"title_embeddings.pt\")\n",
    "if os.path.exists(embeddings_path):\n",
    "    print(\"Loading pre-computed title embeddings...\")\n",
    "    title_embeddings = torch.load(embeddings_path, map_location=CONFIG.DEVICE)\n",
    "    print(f\"Loaded embeddings for {title_embeddings.shape[0]} titles. Shape: {title_embeddings.shape}\")\n",
    "else:\n",
    "    print(\"Generating new title embeddings...\")\n",
    "    sbert_model = SentenceTransformer('all-MiniLM-L6-v2', device=CONFIG.DEVICE)\n",
    "    unique_titles_df = model_df.select([\"work_id_encoded\", \"canonical_title\"]).unique(subset=[\"work_id_encoded\"]).sort(\"work_id_encoded\")\n",
    "    titles_list = unique_titles_df['canonical_title'].to_list()\n",
    "    \n",
    "    with torch.no_grad():\n",
    "        title_embeddings = sbert_model.encode(\n",
    "            titles_list, \n",
    "            convert_to_tensor=True, \n",
    "            show_progress_bar=True,\n",
    "            batch_size=32, \n",
    "            normalize_embeddings=True\n",
    "        )\n",
    "    \n",
    "    print(f\"Generated embeddings for {len(titles_list)} unique titles. Shape: {title_embeddings.shape}\")\n",
    "    os.makedirs(PROCESSED_DATA_DIR, exist_ok=True)\n",
    "    torch.save(title_embeddings, embeddings_path)\n",
    "    print(f\"Saved embeddings to {embeddings_path}\")\n",
    "\n",
    "# Create the Train-Validation Split\n",
    "print(\"\\nSplitting data into training and validation sets (80/20)...\")\n",
    "pdf = model_df.to_pandas()\n",
    "train_df, val_df = train_test_split(\n",
    "    pdf, test_size=CONFIG.TEST_SIZE, random_state=SEED, stratify=pdf['user_id_encoded']\n",
    ")\n",
    "print(f\"Training set size: {len(train_df)}\")\n",
    "print(f\"Validation set size: {len(val_df)}\")\n",
    "\n",
    "# Create PyTorch Datasets and DataLoaders\n",
    "class RankingDataset(Dataset):\n",
    "    def __init__(self, df, title_embeddings_tensor):\n",
    "        self.df = df\n",
    "        self.title_embeddings = title_embeddings_tensor\n",
    "        self.users = df['user_id_encoded'].values\n",
    "        self.items = df['work_id_encoded'].values\n",
    "        self.age_bins = df['age_bin_encoded'].values\n",
    "        self.countries = df['country_encoded'].values\n",
    "        self.authors = df['canonical_author_encoded'].values\n",
    "        self.publishers = df['publisher_encoded'].values\n",
    "        self.yop_bins = df['yop_bin_encoded'].values\n",
    "        self.targets = torch.tensor(df['target'].values, dtype=torch.float32)\n",
    "\n",
    "    def __len__(self): return len(self.df)\n",
    "    def __getitem__(self, idx):\n",
    "        item_id = self.items[idx]\n",
    "        features = {\n",
    "            'user_id': self.users[idx], 'work_id': item_id, 'age_bin': self.age_bins[idx],\n",
    "            'country': self.countries[idx], 'author': self.authors[idx], 'publisher': self.publishers[idx],\n",
    "            'yop_bin': self.yop_bins[idx], 'title_embedding': self.title_embeddings[item_id]\n",
    "        }\n",
    "        return features, self.targets[idx]\n",
    "\n",
    "print(\"\\nCreating PyTorch DataLoaders for the Ranking Task...\")\n",
    "num_workers = 0 # Safer for cross-platform compatibility\n",
    "train_dataset = RankingDataset(train_df, title_embeddings)\n",
    "val_dataset = RankingDataset(val_df, title_embeddings)\n",
    "train_loader = DataLoader(train_dataset, batch_size=CONFIG.BATCH_SIZE, shuffle=True, num_workers=num_workers)\n",
    "val_loader = DataLoader(val_dataset, batch_size=CONFIG.BATCH_SIZE, shuffle=False, num_workers=num_workers)\n",
    "\n",
    "print(\"Data preparation is complete.\")"
   ]
  },
  {
   "cell_type": "code",
   "execution_count": 18,
   "id": "7ba2825b",
   "metadata": {},
   "outputs": [
    {
     "name": "stdout",
     "output_type": "stream",
     "text": [
      "Model classes defined successfully.\n"
     ]
    }
   ],
   "source": [
    "# Step 18: Model Architecture Definition\n",
    "\n",
    "# The model is structured as a Two-Tower architecture, one for the user and one for the item.\n",
    "# Each tower processes its respective features and outputs a final embedding vector.\n",
    "\n",
    "class UserTower(nn.Module):\n",
    "    \"\"\"Processes user features into a single user embedding.\"\"\"\n",
    "    def __init__(self, vocab_sizes, config):\n",
    "        super().__init__()\n",
    "        self.config = config\n",
    "        self.user_embedding = nn.Embedding(vocab_sizes['user_id'], config.EMBEDDING_DIM)\n",
    "        self.age_embedding = nn.Embedding(vocab_sizes['age_bin'], config.EMBEDDING_DIM // 4)\n",
    "        self.country_embedding = nn.Embedding(vocab_sizes['country'], config.EMBEDDING_DIM // 2)\n",
    "        \n",
    "        mlp_input_dim = config.EMBEDDING_DIM + (config.EMBEDDING_DIM // 4) + (config.EMBEDDING_DIM // 2)\n",
    "        hidden_dim = 256\n",
    "        \n",
    "        layers = []\n",
    "        layers.append(nn.Linear(mlp_input_dim, hidden_dim))\n",
    "        layers.append(nn.ReLU())\n",
    "        layers.append(nn.Dropout(config.DROPOUT_RATE))\n",
    "        for _ in range(config.N_LAYERS_USER - 1):\n",
    "            layers.append(nn.Linear(hidden_dim, hidden_dim))\n",
    "            layers.append(nn.ReLU())\n",
    "            layers.append(nn.Dropout(config.DROPOUT_RATE))\n",
    "        layers.append(nn.Linear(hidden_dim, config.EMBEDDING_DIM))\n",
    "        self.mlp = nn.Sequential(*layers)\n",
    "\n",
    "    def forward(self, features):\n",
    "        emb_cat = torch.cat([\n",
    "            self.user_embedding(features['user_id']),\n",
    "            self.age_embedding(features['age_bin']),\n",
    "            self.country_embedding(features['country']),\n",
    "        ], dim=1)\n",
    "        return self.mlp(emb_cat)\n",
    "\n",
    "class ItemTower(nn.Module):\n",
    "    \"\"\"Processes item features (including title text) into a single item embedding.\"\"\"\n",
    "    def __init__(self, vocab_sizes, title_embedding_dim, config):\n",
    "        super().__init__()\n",
    "        self.config = config\n",
    "        self.work_embedding = nn.Embedding(vocab_sizes['work_id'], config.EMBEDDING_DIM)\n",
    "        self.author_embedding = nn.Embedding(vocab_sizes['canonical_author'], config.EMBEDDING_DIM // 2)\n",
    "        self.publisher_embedding = nn.Embedding(vocab_sizes['publisher'], config.EMBEDDING_DIM // 2)\n",
    "        self.yop_bin_embedding = nn.Embedding(vocab_sizes['yop_bin'], config.EMBEDDING_DIM // 4)\n",
    "        \n",
    "        mlp_input_dim = config.EMBEDDING_DIM + (config.EMBEDDING_DIM // 2) * 2 + (config.EMBEDDING_DIM // 4) + title_embedding_dim\n",
    "        hidden_dim = 256\n",
    "        \n",
    "        layers = []\n",
    "        layers.append(nn.Linear(mlp_input_dim, hidden_dim))\n",
    "        layers.append(nn.ReLU())\n",
    "        layers.append(nn.Dropout(config.DROPOUT_RATE))\n",
    "        for _ in range(config.N_LAYERS_ITEM - 1):\n",
    "            layers.append(nn.Linear(hidden_dim, hidden_dim))\n",
    "            layers.append(nn.ReLU())\n",
    "            layers.append(nn.Dropout(config.DROPOUT_RATE))\n",
    "        layers.append(nn.Linear(hidden_dim, config.EMBEDDING_DIM))\n",
    "        self.mlp = nn.Sequential(*layers)\n",
    "\n",
    "    def forward(self, features):\n",
    "        emb_cat = torch.cat([\n",
    "            self.work_embedding(features['work_id']),\n",
    "            self.author_embedding(features['author']),\n",
    "            self.publisher_embedding(features['publisher']),\n",
    "            self.yop_bin_embedding(features['yop_bin']),\n",
    "            features['title_embedding'],\n",
    "        ], dim=1)\n",
    "        return self.mlp(emb_cat)\n",
    "\n",
    "class FinalTwoTowerModel(nn.Module):\n",
    "    \"\"\"Combines the user and item towers to produce a final ranking score.\"\"\"\n",
    "    def __init__(self, vocab_sizes, title_embedding_dim, config):\n",
    "        super().__init__()\n",
    "        self.user_tower = UserTower(vocab_sizes, config)\n",
    "        self.item_tower = ItemTower(vocab_sizes, title_embedding_dim, config)\n",
    "\n",
    "    def forward(self, features):\n",
    "        user_embedding = self.user_tower(features)\n",
    "        item_embedding = self.item_tower(features)\n",
    "        # The final score is the dot product of the two embeddings\n",
    "        return torch.sum(user_embedding * item_embedding, dim=1)\n",
    "\n",
    "print(\"Model classes defined successfully.\")"
   ]
  },
  {
   "cell_type": "code",
   "execution_count": 19,
   "id": "433f3b56",
   "metadata": {},
   "outputs": [
    {
     "name": "stdout",
     "output_type": "stream",
     "text": [
      "Training and evaluation functions are now defined.\n"
     ]
    }
   ],
   "source": [
    "# Step 19: Training and Evaluation Functions\n",
    "\n",
    "def train_one_epoch_ranking(model, train_loader, optimizer, criterion, device):\n",
    "    \"\"\"Performs a single training pass for the ranking model.\"\"\"\n",
    "    model.train()\n",
    "    total_loss = 0.0\n",
    "    num_samples = 0\n",
    "    \n",
    "    for features, targets in tqdm(train_loader, desc=\"Training\"):\n",
    "        features = {k: v.to(device, non_blocking=True) for k, v in features.items()}\n",
    "        targets = targets.to(device, non_blocking=True)\n",
    "        \n",
    "        optimizer.zero_grad()\n",
    "        predictions = model(features)\n",
    "        loss = criterion(predictions, targets)\n",
    "        loss.backward()\n",
    "        torch.nn.utils.clip_grad_norm_(model.parameters(), max_norm=1.0)\n",
    "        optimizer.step()\n",
    "        \n",
    "        total_loss += loss.item() * len(targets)\n",
    "        num_samples += len(targets)\n",
    "        \n",
    "        # Periodically clear GPU cache if available\n",
    "        if num_samples % (len(train_loader.dataset) // 4) == 0:\n",
    "            if torch.cuda.is_available(): torch.cuda.empty_cache()\n",
    "        \n",
    "    return total_loss / num_samples\n",
    "\n",
    "def evaluate_ranking(model, val_loader, criterion, device, k=10):\n",
    "    \"\"\"Evaluates the model on the validation set using ranking-specific metrics.\"\"\"\n",
    "    model.eval()\n",
    "    total_loss = 0.0\n",
    "    user_predictions = defaultdict(list)\n",
    "    user_ground_truth = defaultdict(list)\n",
    "\n",
    "    with torch.no_grad():\n",
    "        for features, targets in tqdm(val_loader, desc=\"Validating\"):\n",
    "            for key in features:\n",
    "                features[key] = features[key].to(device)\n",
    "            targets = targets.to(device)\n",
    "            \n",
    "            predictions = model(features)\n",
    "            loss = criterion(predictions, targets)\n",
    "            total_loss += loss.item() * len(targets)\n",
    "            \n",
    "            user_ids_np = features['user_id'].cpu().numpy()\n",
    "            work_ids_np = features['work_id'].cpu().numpy()\n",
    "            preds_np = predictions.cpu().numpy()\n",
    "            targets_np = targets.cpu().numpy()\n",
    "            \n",
    "            for user_id, work_id, pred, target in zip(user_ids_np, work_ids_np, preds_np, targets_np):\n",
    "                user_predictions[user_id].append((pred, work_id))\n",
    "                if target == 1:\n",
    "                    user_ground_truth[user_id].append(work_id)\n",
    "\n",
    "    # Calculate Ranking Metrics\n",
    "    metrics = defaultdict(list)\n",
    "    for user_id, predictions in user_predictions.items():\n",
    "        predictions.sort(key=lambda x: x[0], reverse=True)\n",
    "        recommended_items = [item_id for score, item_id in predictions]\n",
    "        ground_truth_items = set(user_ground_truth.get(user_id, []))\n",
    "        if not ground_truth_items: continue\n",
    "\n",
    "        precision, recall = precision_recall_at_k(recommended_items, ground_truth_items, k)\n",
    "        ndcg = ndcg_at_k(recommended_items, ground_truth_items, k)\n",
    "        metrics['precision@k'].append(precision)\n",
    "        metrics['recall@k'].append(recall)\n",
    "        metrics['ndcg@k'].append(ndcg)\n",
    "\n",
    "    avg_metrics = {\n",
    "        'val_loss': total_loss / len(val_loader.dataset),\n",
    "        'precision@k': np.mean(metrics['precision@k']),\n",
    "        'recall@k': np.mean(metrics['recall@k']),\n",
    "        'ndcg@k': np.mean(metrics['ndcg@k'])\n",
    "    }\n",
    "    return avg_metrics\n",
    "\n",
    "# Metric helper functions\n",
    "def precision_recall_at_k(recommended_items, ground_truth_items, k):\n",
    "    recommended_at_k = recommended_items[:k]\n",
    "    hits = len(set(recommended_at_k) & ground_truth_items)\n",
    "    precision = hits / k if k > 0 else 0.0\n",
    "    recall = hits / len(ground_truth_items) if len(ground_truth_items) > 0 else 0.0\n",
    "    return precision, recall\n",
    "\n",
    "def dcg_at_k(recommended_items, ground_truth_items, k):\n",
    "    score = 0.0\n",
    "    for i, item in enumerate(recommended_items[:k]):\n",
    "        if item in ground_truth_items:\n",
    "            score += 1.0 / np.log2(i + 2)\n",
    "    return score\n",
    "\n",
    "def ndcg_at_k(recommended_items, ground_truth_items, k):\n",
    "    dcg = dcg_at_k(recommended_items, ground_truth_items, k)\n",
    "    ideal_dcg = dcg_at_k(list(ground_truth_items), ground_truth_items, k)\n",
    "    return dcg / ideal_dcg if ideal_dcg > 0 else 0.0\n",
    "    \n",
    "print(\"Training and evaluation functions are now defined.\")"
   ]
  },
  {
   "cell_type": "code",
   "execution_count": 20,
   "id": "11a4b6c0",
   "metadata": {},
   "outputs": [
    {
     "name": "stderr",
     "output_type": "stream",
     "text": [
      "[I 2025-09-15 19:42:22,901] A new study created in memory with name: no-name-5dbffab1-8753-4964-ae92-54ee48643cc4\n"
     ]
    },
    {
     "name": "stdout",
     "output_type": "stream",
     "text": [
      "\n",
      "--- Creating and Running the Optuna Ranking Study ---\n",
      "Running new hyperparameter optimization...\n"
     ]
    },
    {
     "name": "stderr",
     "output_type": "stream",
     "text": [
      "Training: 100%|██████████| 65/65 [00:02<00:00, 21.81it/s]\n",
      "Validating: 100%|██████████| 17/17 [00:00<00:00, 27.47it/s]\n",
      "Training: 100%|██████████| 65/65 [00:02<00:00, 28.86it/s]\n",
      "Validating: 100%|██████████| 17/17 [00:00<00:00, 30.15it/s]\n",
      "Training: 100%|██████████| 65/65 [00:03<00:00, 20.12it/s]\n",
      "Validating: 100%|██████████| 17/17 [00:01<00:00, 16.72it/s]\n",
      "Training: 100%|██████████| 65/65 [00:03<00:00, 20.74it/s]\n",
      "Validating: 100%|██████████| 17/17 [00:00<00:00, 30.96it/s]\n",
      "Training: 100%|██████████| 65/65 [00:02<00:00, 31.37it/s]\n",
      "Validating: 100%|██████████| 17/17 [00:00<00:00, 19.70it/s]\n",
      "Validating: 100%|██████████| 17/17 [00:00<00:00, 31.02it/s]\n",
      "Best trial: 0. Best value: 0.936094:   5%|▌         | 1/20 [00:18<05:43, 18.06s/it]"
     ]
    },
    {
     "name": "stdout",
     "output_type": "stream",
     "text": [
      "[I 2025-09-15 19:42:40,957] Trial 0 finished with value: 0.9360943966926404 and parameters: {'embedding_dim': 32, 'learning_rate': 0.002584623215271393, 'dropout': 0.19230339670195248, 'n_layers_user': 1, 'n_layers_item': 2}. Best is trial 0 with value: 0.9360943966926404.\n"
     ]
    },
    {
     "name": "stderr",
     "output_type": "stream",
     "text": [
      "Training: 100%|██████████| 65/65 [00:02<00:00, 28.93it/s]\n",
      "Validating: 100%|██████████| 17/17 [00:01<00:00, 16.52it/s]\n",
      "Training: 100%|██████████| 65/65 [00:01<00:00, 33.52it/s]\n",
      "Validating: 100%|██████████| 17/17 [00:00<00:00, 32.65it/s]\n",
      "Training: 100%|██████████| 65/65 [00:02<00:00, 24.86it/s]\n",
      "Validating: 100%|██████████| 17/17 [00:00<00:00, 31.54it/s]\n",
      "Training: 100%|██████████| 65/65 [00:02<00:00, 27.24it/s]\n",
      "Validating: 100%|██████████| 17/17 [00:00<00:00, 29.90it/s]\n",
      "Training: 100%|██████████| 65/65 [00:02<00:00, 26.77it/s]\n",
      "Validating: 100%|██████████| 17/17 [00:00<00:00, 31.04it/s]\n",
      "Validating: 100%|██████████| 17/17 [00:00<00:00, 30.36it/s]\n",
      "Best trial: 0. Best value: 0.936094:  10%|█         | 2/20 [00:33<04:58, 16.61s/it]"
     ]
    },
    {
     "name": "stdout",
     "output_type": "stream",
     "text": [
      "[I 2025-09-15 19:42:56,554] Trial 1 finished with value: 0.9345157600115578 and parameters: {'embedding_dim': 64, 'learning_rate': 0.00041601556526816213, 'dropout': 0.46317726703806755, 'n_layers_user': 2, 'n_layers_item': 3}. Best is trial 0 with value: 0.9360943966926404.\n"
     ]
    },
    {
     "name": "stderr",
     "output_type": "stream",
     "text": [
      "Training: 100%|██████████| 65/65 [00:02<00:00, 23.54it/s]\n",
      "Validating: 100%|██████████| 17/17 [00:00<00:00, 28.05it/s]\n",
      "Training: 100%|██████████| 65/65 [00:02<00:00, 28.89it/s]\n",
      "Validating: 100%|██████████| 17/17 [00:00<00:00, 18.64it/s]\n",
      "Training: 100%|██████████| 65/65 [00:02<00:00, 27.77it/s]\n",
      "Validating: 100%|██████████| 17/17 [00:00<00:00, 31.07it/s]\n",
      "Training: 100%|██████████| 65/65 [00:02<00:00, 28.78it/s]\n",
      "Validating: 100%|██████████| 17/17 [00:00<00:00, 31.68it/s]\n",
      "Training: 100%|██████████| 65/65 [00:02<00:00, 26.80it/s]\n",
      "Validating: 100%|██████████| 17/17 [00:00<00:00, 30.07it/s]\n",
      "Validating: 100%|██████████| 17/17 [00:00<00:00, 31.22it/s]\n",
      "Best trial: 0. Best value: 0.936094:  15%|█▌        | 3/20 [00:49<04:37, 16.32s/it]"
     ]
    },
    {
     "name": "stdout",
     "output_type": "stream",
     "text": [
      "[I 2025-09-15 19:43:12,519] Trial 2 finished with value: 0.931264681850315 and parameters: {'embedding_dim': 128, 'learning_rate': 0.0021590739846329534, 'dropout': 0.21278577136903842, 'n_layers_user': 1, 'n_layers_item': 2}. Best is trial 0 with value: 0.9360943966926404.\n"
     ]
    },
    {
     "name": "stderr",
     "output_type": "stream",
     "text": [
      "Training: 100%|██████████| 65/65 [00:02<00:00, 26.74it/s]\n",
      "Validating: 100%|██████████| 17/17 [00:00<00:00, 32.05it/s]\n",
      "Training: 100%|██████████| 65/65 [00:02<00:00, 26.41it/s]\n",
      "Validating: 100%|██████████| 17/17 [00:00<00:00, 30.02it/s]\n",
      "Training: 100%|██████████| 65/65 [00:02<00:00, 31.04it/s]\n",
      "Validating: 100%|██████████| 17/17 [00:00<00:00, 19.08it/s]\n",
      "Training: 100%|██████████| 65/65 [00:02<00:00, 31.66it/s]\n",
      "Validating: 100%|██████████| 17/17 [00:00<00:00, 21.80it/s]\n",
      "Training: 100%|██████████| 65/65 [00:02<00:00, 25.96it/s]\n",
      "Validating: 100%|██████████| 17/17 [00:00<00:00, 27.39it/s]\n",
      "Validating: 100%|██████████| 17/17 [00:00<00:00, 17.86it/s]\n",
      "Best trial: 0. Best value: 0.936094:  20%|██        | 4/20 [01:05<04:19, 16.24s/it]"
     ]
    },
    {
     "name": "stdout",
     "output_type": "stream",
     "text": [
      "[I 2025-09-15 19:43:28,651] Trial 3 finished with value: 0.9219225676087425 and parameters: {'embedding_dim': 128, 'learning_rate': 0.009897779846579642, 'dropout': 0.38843678685923044, 'n_layers_user': 1, 'n_layers_item': 1}. Best is trial 0 with value: 0.9360943966926404.\n"
     ]
    },
    {
     "name": "stderr",
     "output_type": "stream",
     "text": [
      "Training: 100%|██████████| 65/65 [00:02<00:00, 23.43it/s]\n",
      "Validating: 100%|██████████| 17/17 [00:00<00:00, 30.65it/s]\n",
      "Training: 100%|██████████| 65/65 [00:02<00:00, 26.40it/s]\n",
      "Validating: 100%|██████████| 17/17 [00:00<00:00, 31.92it/s]\n",
      "Training: 100%|██████████| 65/65 [00:02<00:00, 25.72it/s]\n",
      "Validating: 100%|██████████| 17/17 [00:00<00:00, 30.73it/s]\n",
      "Training: 100%|██████████| 65/65 [00:02<00:00, 32.14it/s]\n",
      "Validating: 100%|██████████| 17/17 [00:00<00:00, 20.92it/s]\n",
      "Training: 100%|██████████| 65/65 [00:02<00:00, 32.35it/s]\n",
      "Validating: 100%|██████████| 17/17 [00:00<00:00, 31.16it/s]\n",
      "Validating: 100%|██████████| 17/17 [00:00<00:00, 20.15it/s]\n",
      "Best trial: 4. Best value: 0.936825:  25%|██▌       | 5/20 [01:21<04:01, 16.10s/it]"
     ]
    },
    {
     "name": "stdout",
     "output_type": "stream",
     "text": [
      "[I 2025-09-15 19:43:44,491] Trial 4 finished with value: 0.9368249649143386 and parameters: {'embedding_dim': 64, 'learning_rate': 0.0025853830164160514, 'dropout': 0.45928607065154486, 'n_layers_user': 3, 'n_layers_item': 1}. Best is trial 4 with value: 0.9368249649143386.\n"
     ]
    },
    {
     "name": "stderr",
     "output_type": "stream",
     "text": [
      "Training: 100%|██████████| 65/65 [00:02<00:00, 32.16it/s]\n",
      "Validating: 100%|██████████| 17/17 [00:00<00:00, 18.79it/s]\n",
      "Best trial: 4. Best value: 0.936825:  30%|███       | 6/20 [01:24<02:42, 11.64s/it]"
     ]
    },
    {
     "name": "stdout",
     "output_type": "stream",
     "text": [
      "[I 2025-09-15 19:43:47,472] Trial 5 pruned. \n"
     ]
    },
    {
     "name": "stderr",
     "output_type": "stream",
     "text": [
      "Training: 100%|██████████| 65/65 [00:02<00:00, 29.54it/s]\n",
      "Validating: 100%|██████████| 17/17 [00:00<00:00, 29.57it/s]\n",
      "Training: 100%|██████████| 65/65 [00:02<00:00, 25.66it/s]\n",
      "Validating: 100%|██████████| 17/17 [00:00<00:00, 28.40it/s]\n",
      "Best trial: 4. Best value: 0.936825:  35%|███▌      | 7/20 [01:30<02:07,  9.79s/it]"
     ]
    },
    {
     "name": "stdout",
     "output_type": "stream",
     "text": [
      "[I 2025-09-15 19:43:53,460] Trial 6 pruned. \n"
     ]
    },
    {
     "name": "stderr",
     "output_type": "stream",
     "text": [
      "Training: 100%|██████████| 65/65 [00:02<00:00, 27.26it/s]\n",
      "Validating: 100%|██████████| 17/17 [00:00<00:00, 27.75it/s]\n",
      "Best trial: 4. Best value: 0.936825:  40%|████      | 8/20 [01:33<01:31,  7.64s/it]"
     ]
    },
    {
     "name": "stdout",
     "output_type": "stream",
     "text": [
      "[I 2025-09-15 19:43:56,505] Trial 7 pruned. \n"
     ]
    },
    {
     "name": "stderr",
     "output_type": "stream",
     "text": [
      "Training: 100%|██████████| 65/65 [00:02<00:00, 27.44it/s]\n",
      "Validating: 100%|██████████| 17/17 [00:00<00:00, 17.63it/s]\n",
      "Best trial: 4. Best value: 0.936825:  45%|████▌     | 9/20 [01:36<01:09,  6.31s/it]"
     ]
    },
    {
     "name": "stdout",
     "output_type": "stream",
     "text": [
      "[I 2025-09-15 19:43:59,895] Trial 8 pruned. \n"
     ]
    },
    {
     "name": "stderr",
     "output_type": "stream",
     "text": [
      "Training: 100%|██████████| 65/65 [00:02<00:00, 31.77it/s]\n",
      "Validating: 100%|██████████| 17/17 [00:00<00:00, 23.56it/s]\n",
      "Best trial: 4. Best value: 0.936825:  50%|█████     | 10/20 [01:39<00:52,  5.23s/it]"
     ]
    },
    {
     "name": "stdout",
     "output_type": "stream",
     "text": [
      "[I 2025-09-15 19:44:02,711] Trial 9 pruned. \n"
     ]
    },
    {
     "name": "stderr",
     "output_type": "stream",
     "text": [
      "Training: 100%|██████████| 65/65 [00:02<00:00, 26.97it/s]\n",
      "Validating: 100%|██████████| 17/17 [00:00<00:00, 30.31it/s]\n",
      "Training: 100%|██████████| 65/65 [00:02<00:00, 28.05it/s]\n",
      "Validating: 100%|██████████| 17/17 [00:00<00:00, 29.36it/s]\n",
      "Training: 100%|██████████| 65/65 [00:02<00:00, 27.76it/s]\n",
      "Validating: 100%|██████████| 17/17 [00:00<00:00, 29.08it/s]\n",
      "Training: 100%|██████████| 65/65 [00:01<00:00, 32.52it/s]\n",
      "Validating: 100%|██████████| 17/17 [00:00<00:00, 19.86it/s]\n",
      "Training: 100%|██████████| 65/65 [00:02<00:00, 31.91it/s]\n",
      "Validating: 100%|██████████| 17/17 [00:00<00:00, 17.69it/s]\n",
      "Validating: 100%|██████████| 17/17 [00:00<00:00, 31.44it/s]\n",
      "Best trial: 4. Best value: 0.936825:  55%|█████▌    | 11/20 [01:55<01:15,  8.35s/it]"
     ]
    },
    {
     "name": "stdout",
     "output_type": "stream",
     "text": [
      "[I 2025-09-15 19:44:18,119] Trial 10 finished with value: 0.9337644565311662 and parameters: {'embedding_dim': 64, 'learning_rate': 0.009678015375881836, 'dropout': 0.29592933889750445, 'n_layers_user': 3, 'n_layers_item': 1}. Best is trial 4 with value: 0.9368249649143386.\n"
     ]
    },
    {
     "name": "stderr",
     "output_type": "stream",
     "text": [
      "Training: 100%|██████████| 65/65 [00:02<00:00, 30.15it/s]\n",
      "Validating: 100%|██████████| 17/17 [00:00<00:00, 18.45it/s]\n",
      "Training: 100%|██████████| 65/65 [00:02<00:00, 30.76it/s]\n",
      "Validating: 100%|██████████| 17/17 [00:00<00:00, 31.41it/s]\n",
      "Best trial: 4. Best value: 0.936825:  60%|██████    | 12/20 [02:01<01:00,  7.58s/it]"
     ]
    },
    {
     "name": "stdout",
     "output_type": "stream",
     "text": [
      "[I 2025-09-15 19:44:23,936] Trial 11 pruned. \n"
     ]
    },
    {
     "name": "stderr",
     "output_type": "stream",
     "text": [
      "Training: 100%|██████████| 65/65 [00:03<00:00, 19.10it/s]\n",
      "Validating: 100%|██████████| 17/17 [00:00<00:00, 30.34it/s]\n",
      "Training: 100%|██████████| 65/65 [00:02<00:00, 24.81it/s]\n",
      "Validating: 100%|██████████| 17/17 [00:00<00:00, 31.32it/s]\n",
      "Training: 100%|██████████| 65/65 [00:02<00:00, 27.58it/s]\n",
      "Validating: 100%|██████████| 17/17 [00:00<00:00, 18.32it/s]\n",
      "Best trial: 4. Best value: 0.936825:  65%|██████▌   | 13/20 [02:11<00:59,  8.48s/it]"
     ]
    },
    {
     "name": "stdout",
     "output_type": "stream",
     "text": [
      "[I 2025-09-15 19:44:34,483] Trial 12 pruned. \n"
     ]
    },
    {
     "name": "stderr",
     "output_type": "stream",
     "text": [
      "Training: 100%|██████████| 65/65 [00:03<00:00, 21.01it/s]\n",
      "Validating: 100%|██████████| 17/17 [00:00<00:00, 19.60it/s]\n",
      "Best trial: 4. Best value: 0.936825:  70%|███████   | 14/20 [02:15<00:42,  7.14s/it]"
     ]
    },
    {
     "name": "stdout",
     "output_type": "stream",
     "text": [
      "[I 2025-09-15 19:44:38,529] Trial 13 pruned. \n"
     ]
    },
    {
     "name": "stderr",
     "output_type": "stream",
     "text": [
      "Training: 100%|██████████| 65/65 [00:03<00:00, 17.27it/s]\n",
      "Validating: 100%|██████████| 17/17 [00:00<00:00, 23.08it/s]\n",
      "Best trial: 4. Best value: 0.936825:  75%|███████▌  | 15/20 [02:20<00:31,  6.37s/it]"
     ]
    },
    {
     "name": "stdout",
     "output_type": "stream",
     "text": [
      "[I 2025-09-15 19:44:43,099] Trial 14 pruned. \n"
     ]
    },
    {
     "name": "stderr",
     "output_type": "stream",
     "text": [
      "Training: 100%|██████████| 65/65 [00:03<00:00, 16.27it/s]\n",
      "Validating: 100%|██████████| 17/17 [00:01<00:00, 16.50it/s]\n",
      "Training: 100%|██████████| 65/65 [00:03<00:00, 16.52it/s]\n",
      "Validating: 100%|██████████| 17/17 [00:00<00:00, 26.25it/s]\n",
      "Training: 100%|██████████| 65/65 [00:02<00:00, 26.87it/s]\n",
      "Validating: 100%|██████████| 17/17 [00:00<00:00, 19.86it/s]\n",
      "Best trial: 4. Best value: 0.936825:  80%|████████  | 16/20 [02:33<00:33,  8.41s/it]"
     ]
    },
    {
     "name": "stdout",
     "output_type": "stream",
     "text": [
      "[I 2025-09-15 19:44:56,252] Trial 15 pruned. \n"
     ]
    },
    {
     "name": "stderr",
     "output_type": "stream",
     "text": [
      "Training: 100%|██████████| 65/65 [00:02<00:00, 30.46it/s]\n",
      "Validating: 100%|██████████| 17/17 [00:00<00:00, 29.84it/s]\n",
      "Best trial: 4. Best value: 0.936825:  85%|████████▌ | 17/20 [02:36<00:20,  6.71s/it]"
     ]
    },
    {
     "name": "stdout",
     "output_type": "stream",
     "text": [
      "[I 2025-09-15 19:44:59,009] Trial 16 pruned. \n"
     ]
    },
    {
     "name": "stderr",
     "output_type": "stream",
     "text": [
      "Training: 100%|██████████| 65/65 [00:02<00:00, 28.23it/s]\n",
      "Validating: 100%|██████████| 17/17 [00:00<00:00, 31.92it/s]\n",
      "Training: 100%|██████████| 65/65 [00:02<00:00, 29.10it/s]\n",
      "Validating: 100%|██████████| 17/17 [00:00<00:00, 31.09it/s]\n",
      "Best trial: 4. Best value: 0.936825:  90%|█████████ | 18/20 [02:41<00:12,  6.41s/it]"
     ]
    },
    {
     "name": "stdout",
     "output_type": "stream",
     "text": [
      "[I 2025-09-15 19:45:04,710] Trial 17 pruned. \n"
     ]
    },
    {
     "name": "stderr",
     "output_type": "stream",
     "text": [
      "Training: 100%|██████████| 65/65 [00:02<00:00, 31.26it/s]\n",
      "Validating: 100%|██████████| 17/17 [00:01<00:00, 13.40it/s]\n",
      "Training: 100%|██████████| 65/65 [00:02<00:00, 27.69it/s]\n",
      "Validating: 100%|██████████| 17/17 [00:01<00:00, 16.74it/s]\n",
      "Training: 100%|██████████| 65/65 [00:01<00:00, 32.55it/s]\n",
      "Validating: 100%|██████████| 17/17 [00:00<00:00, 30.93it/s]\n",
      "Training: 100%|██████████| 65/65 [00:02<00:00, 27.44it/s]\n",
      "Validating: 100%|██████████| 17/17 [00:00<00:00, 30.12it/s]\n",
      "Training: 100%|██████████| 65/65 [00:02<00:00, 27.49it/s]\n",
      "Validating: 100%|██████████| 17/17 [00:00<00:00, 28.34it/s]\n",
      "Validating: 100%|██████████| 17/17 [00:00<00:00, 29.05it/s]\n",
      "Best trial: 18. Best value: 0.938487:  95%|█████████▌| 19/20 [02:57<00:09,  9.27s/it]"
     ]
    },
    {
     "name": "stdout",
     "output_type": "stream",
     "text": [
      "[I 2025-09-15 19:45:20,669] Trial 18 finished with value: 0.938486523668002 and parameters: {'embedding_dim': 64, 'learning_rate': 0.0008682009009581913, 'dropout': 0.18183835729143538, 'n_layers_user': 2, 'n_layers_item': 2}. Best is trial 18 with value: 0.938486523668002.\n"
     ]
    },
    {
     "name": "stderr",
     "output_type": "stream",
     "text": [
      "Training: 100%|██████████| 65/65 [00:02<00:00, 28.01it/s]\n",
      "Validating: 100%|██████████| 17/17 [00:00<00:00, 28.47it/s]\n",
      "Best trial: 18. Best value: 0.938487: 100%|██████████| 20/20 [03:00<00:00,  9.04s/it]"
     ]
    },
    {
     "name": "stdout",
     "output_type": "stream",
     "text": [
      "[I 2025-09-15 19:45:23,644] Trial 19 pruned. \n",
      "\n",
      "--- Ranking Optimization Finished ---\n",
      "Best trial number: 18\n",
      "Best validation NDCG@10: 0.9385\n",
      "\n",
      "Best Hyperparameters for Ranking Found:\n",
      "  - embedding_dim: 64\n",
      "  - learning_rate: 0.0008682009009581913\n",
      "  - dropout: 0.18183835729143538\n",
      "  - n_layers_user: 2\n",
      "  - n_layers_item: 2\n"
     ]
    },
    {
     "name": "stderr",
     "output_type": "stream",
     "text": [
      "\n"
     ]
    }
   ],
   "source": [
    "# Step 20: Hyperparameter Optimization with Optuna\n",
    "\n",
    "def objective_ranking(trial):\n",
    "    \"\"\"Defines a single HPO run and returns the validation metric (NDCG@k).\"\"\"\n",
    "    \n",
    "    # 1. Suggest Hyperparameters\n",
    "    config_dict = {\n",
    "        'EMBEDDING_DIM': trial.suggest_categorical('embedding_dim', [32, 64, 128]),\n",
    "        'LEARNING_RATE': trial.suggest_float('learning_rate', 1e-4, 1e-2, log=True),\n",
    "        'DROPOUT_RATE': trial.suggest_float('dropout', 0.1, 0.5),\n",
    "        'N_LAYERS_USER': trial.suggest_int('n_layers_user', 1, 3),\n",
    "        'N_LAYERS_ITEM': trial.suggest_int('n_layers_item', 1, 3)\n",
    "    }\n",
    "    trial_config = SimpleNamespace(**config_dict)\n",
    "\n",
    "    # 2. Setup model and training components\n",
    "    vocab_sizes = {k: len(v.classes_) for k, v in encoders.items()}\n",
    "    title_embedding_dim = title_embeddings.shape[1]\n",
    "    model = FinalTwoTowerModel(vocab_sizes, title_embedding_dim, trial_config).to(CONFIG.DEVICE)\n",
    "    optimizer = optim.Adam(model.parameters(), lr=trial_config.LEARNING_RATE)\n",
    "    criterion = nn.BCEWithLogitsLoss()\n",
    "    \n",
    "    # 3. Train for a few epochs for HPO\n",
    "    HPO_EPOCHS = 5\n",
    "    for epoch in range(HPO_EPOCHS):\n",
    "        train_one_epoch_ranking(model, train_loader, optimizer, criterion, CONFIG.DEVICE)\n",
    "        metrics = evaluate_ranking(model, val_loader, criterion, CONFIG.DEVICE)\n",
    "        trial.report(metrics['ndcg@k'], epoch) # Report the metric to Optuna for pruning\n",
    "        \n",
    "        if trial.should_prune():\n",
    "            raise optuna.exceptions.TrialPruned()\n",
    "\n",
    "    final_metrics = evaluate_ranking(model, val_loader, criterion, CONFIG.DEVICE)\n",
    "    return final_metrics['ndcg@k']\n",
    "\n",
    "# --- Create and Run the Optuna Study (or skip if flag is set) ---\n",
    "print(\"\\n--- Creating and Running the Optuna Ranking Study ---\")\n",
    "\n",
    "if SKIP_HYPERPARAMETER_OPTIMIZATION:\n",
    "    print(\"⚠️ SKIPPING hyperparameter optimization as per the flag.\")\n",
    "    print(\"Using pre-defined best parameters from a previous run...\")\n",
    "    \n",
    "    # Use previously found best parameters by creating a mock study object\n",
    "    class MockStudy:\n",
    "        best_params = {\n",
    "            'embedding_dim': 128,\n",
    "            'learning_rate': 0.00037238673471467316,\n",
    "            'dropout': 0.20766704720269563,\n",
    "            'n_layers_user': 2,\n",
    "            'n_layers_item': 2\n",
    "        }\n",
    "        best_value = 0.9335\n",
    "        # The original code had a 'best_trial' attribute, which we can mock if needed\n",
    "        class MockTrial: number = 0\n",
    "        best_trial = MockTrial()\n",
    "            \n",
    "    study_ranking = MockStudy()\n",
    "    print(f\"Using pre-defined best parameters: {study_ranking.best_params}\")\n",
    "else:\n",
    "    print(\"Running new hyperparameter optimization...\")\n",
    "    study_ranking = optuna.create_study(direction='maximize', pruner=optuna.pruners.MedianPruner())\n",
    "    N_TRIALS_RANKING = 20\n",
    "    study_ranking.optimize(objective_ranking, n_trials=N_TRIALS_RANKING, show_progress_bar=True)\n",
    "\n",
    "# --- Analyze the Results ---\n",
    "print(\"\\n--- Ranking Optimization Finished ---\")\n",
    "# This line might cause an error if using the mock object without a 'best_trial' attribute\n",
    "if hasattr(study_ranking, 'best_trial'):\n",
    "    print(f\"Best trial number: {study_ranking.best_trial.number}\")\n",
    "print(f\"Best validation NDCG@10: {study_ranking.best_value:.4f}\")\n",
    "print(\"\\nBest Hyperparameters for Ranking Found:\")\n",
    "for key, value in study_ranking.best_params.items():\n",
    "    print(f\"  - {key}: {value}\")"
   ]
  },
  {
   "cell_type": "code",
   "execution_count": 21,
   "id": "f0b31f46",
   "metadata": {},
   "outputs": [
    {
     "name": "stdout",
     "output_type": "stream",
     "text": [
      "--- Final Training, Evaluation, and Asset Packaging ---\n",
      "\n",
      "Defining final model configuration from Optuna results...\n",
      "\n",
      "--- Final Configuration for Champion Model ---\n",
      "  - EMBEDDING_DIM: 64\n",
      "  - LEARNING_RATE: 0.0008682009009581913\n",
      "  - DROPOUT_RATE: 0.18183835729143538\n",
      "  - N_LAYERS_USER: 2\n",
      "  - N_LAYERS_ITEM: 2\n",
      "  - EPOCHS: 30\n",
      "  - DEVICE: mps\n",
      "\n",
      "Instantiating and training the champion model...\n"
     ]
    },
    {
     "name": "stderr",
     "output_type": "stream",
     "text": [
      "Training: 100%|██████████| 65/65 [00:02<00:00, 28.62it/s]\n",
      "Validating: 100%|██████████| 17/17 [00:00<00:00, 17.55it/s]\n"
     ]
    },
    {
     "name": "stdout",
     "output_type": "stream",
     "text": [
      "Epoch 1/30 | Train Loss: 0.6424 | Val NDCG@10: 0.9306\n",
      "  -> New best model! Saving model and configuration...\n"
     ]
    },
    {
     "name": "stderr",
     "output_type": "stream",
     "text": [
      "Training: 100%|██████████| 65/65 [00:02<00:00, 28.35it/s]\n",
      "Validating: 100%|██████████| 17/17 [00:00<00:00, 18.78it/s]\n"
     ]
    },
    {
     "name": "stdout",
     "output_type": "stream",
     "text": [
      "Epoch 2/30 | Train Loss: 0.6057 | Val NDCG@10: 0.9344\n",
      "  -> New best model! Saving model and configuration...\n"
     ]
    },
    {
     "name": "stderr",
     "output_type": "stream",
     "text": [
      "Training: 100%|██████████| 65/65 [00:02<00:00, 28.13it/s]\n",
      "Validating: 100%|██████████| 17/17 [00:00<00:00, 29.91it/s]\n"
     ]
    },
    {
     "name": "stdout",
     "output_type": "stream",
     "text": [
      "Epoch 3/30 | Train Loss: 0.5765 | Val NDCG@10: 0.9368\n",
      "  -> New best model! Saving model and configuration...\n"
     ]
    },
    {
     "name": "stderr",
     "output_type": "stream",
     "text": [
      "Training: 100%|██████████| 65/65 [00:02<00:00, 27.48it/s]\n",
      "Validating: 100%|██████████| 17/17 [00:00<00:00, 31.96it/s]\n"
     ]
    },
    {
     "name": "stdout",
     "output_type": "stream",
     "text": [
      "Epoch 4/30 | Train Loss: 0.5563 | Val NDCG@10: 0.9369\n",
      "  -> New best model! Saving model and configuration...\n"
     ]
    },
    {
     "name": "stderr",
     "output_type": "stream",
     "text": [
      "Training: 100%|██████████| 65/65 [00:02<00:00, 28.28it/s]\n",
      "Validating: 100%|██████████| 17/17 [00:00<00:00, 30.85it/s]\n"
     ]
    },
    {
     "name": "stdout",
     "output_type": "stream",
     "text": [
      "Epoch 5/30 | Train Loss: 0.5389 | Val NDCG@10: 0.9362\n"
     ]
    },
    {
     "name": "stderr",
     "output_type": "stream",
     "text": [
      "Training: 100%|██████████| 65/65 [00:02<00:00, 27.10it/s]\n",
      "Validating: 100%|██████████| 17/17 [00:00<00:00, 30.44it/s]\n"
     ]
    },
    {
     "name": "stdout",
     "output_type": "stream",
     "text": [
      "Epoch 6/30 | Train Loss: 0.5236 | Val NDCG@10: 0.9374\n",
      "  -> New best model! Saving model and configuration...\n"
     ]
    },
    {
     "name": "stderr",
     "output_type": "stream",
     "text": [
      "Training: 100%|██████████| 65/65 [00:02<00:00, 32.09it/s]\n",
      "Validating: 100%|██████████| 17/17 [00:00<00:00, 17.61it/s]\n"
     ]
    },
    {
     "name": "stdout",
     "output_type": "stream",
     "text": [
      "Epoch 7/30 | Train Loss: 0.5125 | Val NDCG@10: 0.9359\n"
     ]
    },
    {
     "name": "stderr",
     "output_type": "stream",
     "text": [
      "Training: 100%|██████████| 65/65 [00:02<00:00, 31.20it/s]\n",
      "Validating: 100%|██████████| 17/17 [00:00<00:00, 29.26it/s]\n"
     ]
    },
    {
     "name": "stdout",
     "output_type": "stream",
     "text": [
      "Epoch 8/30 | Train Loss: 0.4991 | Val NDCG@10: 0.9358\n"
     ]
    },
    {
     "name": "stderr",
     "output_type": "stream",
     "text": [
      "Training: 100%|██████████| 65/65 [00:02<00:00, 28.08it/s]\n",
      "Validating: 100%|██████████| 17/17 [00:00<00:00, 30.14it/s]\n"
     ]
    },
    {
     "name": "stdout",
     "output_type": "stream",
     "text": [
      "Epoch 9/30 | Train Loss: 0.4873 | Val NDCG@10: 0.9340\n"
     ]
    },
    {
     "name": "stderr",
     "output_type": "stream",
     "text": [
      "Training: 100%|██████████| 65/65 [00:02<00:00, 24.83it/s]\n",
      "Validating: 100%|██████████| 17/17 [00:00<00:00, 31.60it/s]\n"
     ]
    },
    {
     "name": "stdout",
     "output_type": "stream",
     "text": [
      "Epoch 10/30 | Train Loss: 0.4738 | Val NDCG@10: 0.9337\n"
     ]
    },
    {
     "name": "stderr",
     "output_type": "stream",
     "text": [
      "Training: 100%|██████████| 65/65 [00:01<00:00, 32.94it/s]\n",
      "Validating: 100%|██████████| 17/17 [00:00<00:00, 19.65it/s]\n"
     ]
    },
    {
     "name": "stdout",
     "output_type": "stream",
     "text": [
      "Epoch 11/30 | Train Loss: 0.4614 | Val NDCG@10: 0.9335\n"
     ]
    },
    {
     "name": "stderr",
     "output_type": "stream",
     "text": [
      "Training: 100%|██████████| 65/65 [00:02<00:00, 31.89it/s]\n",
      "Validating: 100%|██████████| 17/17 [00:00<00:00, 19.06it/s]\n"
     ]
    },
    {
     "name": "stdout",
     "output_type": "stream",
     "text": [
      "Epoch 12/30 | Train Loss: 0.4481 | Val NDCG@10: 0.9316\n"
     ]
    },
    {
     "name": "stderr",
     "output_type": "stream",
     "text": [
      "Training: 100%|██████████| 65/65 [00:02<00:00, 30.34it/s]\n",
      "Validating: 100%|██████████| 17/17 [00:00<00:00, 29.20it/s]\n"
     ]
    },
    {
     "name": "stdout",
     "output_type": "stream",
     "text": [
      "Epoch 13/30 | Train Loss: 0.4355 | Val NDCG@10: 0.9333\n"
     ]
    },
    {
     "name": "stderr",
     "output_type": "stream",
     "text": [
      "Training: 100%|██████████| 65/65 [00:02<00:00, 27.81it/s]\n",
      "Validating: 100%|██████████| 17/17 [00:00<00:00, 23.65it/s]\n"
     ]
    },
    {
     "name": "stdout",
     "output_type": "stream",
     "text": [
      "Epoch 14/30 | Train Loss: 0.4220 | Val NDCG@10: 0.9321\n"
     ]
    },
    {
     "name": "stderr",
     "output_type": "stream",
     "text": [
      "Training: 100%|██████████| 65/65 [00:02<00:00, 28.33it/s]\n",
      "Validating: 100%|██████████| 17/17 [00:00<00:00, 29.86it/s]\n"
     ]
    },
    {
     "name": "stdout",
     "output_type": "stream",
     "text": [
      "Epoch 15/30 | Train Loss: 0.4064 | Val NDCG@10: 0.9306\n"
     ]
    },
    {
     "name": "stderr",
     "output_type": "stream",
     "text": [
      "Training: 100%|██████████| 65/65 [00:02<00:00, 30.93it/s]\n",
      "Validating: 100%|██████████| 17/17 [00:00<00:00, 20.58it/s]\n"
     ]
    },
    {
     "name": "stdout",
     "output_type": "stream",
     "text": [
      "Epoch 16/30 | Train Loss: 0.3918 | Val NDCG@10: 0.9305\n"
     ]
    },
    {
     "name": "stderr",
     "output_type": "stream",
     "text": [
      "Training: 100%|██████████| 65/65 [00:02<00:00, 32.02it/s]\n",
      "Validating: 100%|██████████| 17/17 [00:00<00:00, 18.79it/s]\n"
     ]
    },
    {
     "name": "stdout",
     "output_type": "stream",
     "text": [
      "Epoch 17/30 | Train Loss: 0.3785 | Val NDCG@10: 0.9308\n"
     ]
    },
    {
     "name": "stderr",
     "output_type": "stream",
     "text": [
      "Training: 100%|██████████| 65/65 [00:02<00:00, 32.38it/s]\n",
      "Validating: 100%|██████████| 17/17 [00:00<00:00, 32.29it/s]\n"
     ]
    },
    {
     "name": "stdout",
     "output_type": "stream",
     "text": [
      "Epoch 18/30 | Train Loss: 0.3655 | Val NDCG@10: 0.9296\n"
     ]
    },
    {
     "name": "stderr",
     "output_type": "stream",
     "text": [
      "Training: 100%|██████████| 65/65 [00:02<00:00, 27.68it/s]\n",
      "Validating: 100%|██████████| 17/17 [00:00<00:00, 31.40it/s]\n"
     ]
    },
    {
     "name": "stdout",
     "output_type": "stream",
     "text": [
      "Epoch 19/30 | Train Loss: 0.3537 | Val NDCG@10: 0.9304\n"
     ]
    },
    {
     "name": "stderr",
     "output_type": "stream",
     "text": [
      "Training: 100%|██████████| 65/65 [00:02<00:00, 27.09it/s]\n",
      "Validating: 100%|██████████| 17/17 [00:00<00:00, 24.81it/s]\n"
     ]
    },
    {
     "name": "stdout",
     "output_type": "stream",
     "text": [
      "Epoch 20/30 | Train Loss: 0.3397 | Val NDCG@10: 0.9299\n"
     ]
    },
    {
     "name": "stderr",
     "output_type": "stream",
     "text": [
      "Training: 100%|██████████| 65/65 [00:02<00:00, 27.99it/s]\n",
      "Validating: 100%|██████████| 17/17 [00:01<00:00, 16.42it/s]\n"
     ]
    },
    {
     "name": "stdout",
     "output_type": "stream",
     "text": [
      "Epoch 21/30 | Train Loss: 0.3280 | Val NDCG@10: 0.9296\n"
     ]
    },
    {
     "name": "stderr",
     "output_type": "stream",
     "text": [
      "Training: 100%|██████████| 65/65 [00:02<00:00, 31.75it/s]\n",
      "Validating: 100%|██████████| 17/17 [00:00<00:00, 18.92it/s]\n"
     ]
    },
    {
     "name": "stdout",
     "output_type": "stream",
     "text": [
      "Epoch 22/30 | Train Loss: 0.3157 | Val NDCG@10: 0.9275\n"
     ]
    },
    {
     "name": "stderr",
     "output_type": "stream",
     "text": [
      "Training: 100%|██████████| 65/65 [00:02<00:00, 27.75it/s]\n",
      "Validating: 100%|██████████| 17/17 [00:00<00:00, 30.07it/s]\n"
     ]
    },
    {
     "name": "stdout",
     "output_type": "stream",
     "text": [
      "Epoch 23/30 | Train Loss: 0.3042 | Val NDCG@10: 0.9297\n"
     ]
    },
    {
     "name": "stderr",
     "output_type": "stream",
     "text": [
      "Training: 100%|██████████| 65/65 [00:02<00:00, 25.58it/s]\n",
      "Validating: 100%|██████████| 17/17 [00:00<00:00, 30.88it/s]\n"
     ]
    },
    {
     "name": "stdout",
     "output_type": "stream",
     "text": [
      "Epoch 24/30 | Train Loss: 0.2942 | Val NDCG@10: 0.9299\n"
     ]
    },
    {
     "name": "stderr",
     "output_type": "stream",
     "text": [
      "Training: 100%|██████████| 65/65 [00:02<00:00, 27.92it/s]\n",
      "Validating: 100%|██████████| 17/17 [00:00<00:00, 30.22it/s]\n"
     ]
    },
    {
     "name": "stdout",
     "output_type": "stream",
     "text": [
      "Epoch 25/30 | Train Loss: 0.2851 | Val NDCG@10: 0.9280\n"
     ]
    },
    {
     "name": "stderr",
     "output_type": "stream",
     "text": [
      "Training: 100%|██████████| 65/65 [00:02<00:00, 26.66it/s]\n",
      "Validating: 100%|██████████| 17/17 [00:00<00:00, 18.06it/s]\n"
     ]
    },
    {
     "name": "stdout",
     "output_type": "stream",
     "text": [
      "Epoch 26/30 | Train Loss: 0.2735 | Val NDCG@10: 0.9291\n"
     ]
    },
    {
     "name": "stderr",
     "output_type": "stream",
     "text": [
      "Training: 100%|██████████| 65/65 [00:02<00:00, 30.96it/s]\n",
      "Validating: 100%|██████████| 17/17 [00:00<00:00, 30.65it/s]\n"
     ]
    },
    {
     "name": "stdout",
     "output_type": "stream",
     "text": [
      "Epoch 27/30 | Train Loss: 0.2632 | Val NDCG@10: 0.9285\n"
     ]
    },
    {
     "name": "stderr",
     "output_type": "stream",
     "text": [
      "Training: 100%|██████████| 65/65 [00:02<00:00, 25.56it/s]\n",
      "Validating: 100%|██████████| 17/17 [00:00<00:00, 32.25it/s]\n"
     ]
    },
    {
     "name": "stdout",
     "output_type": "stream",
     "text": [
      "Epoch 28/30 | Train Loss: 0.2572 | Val NDCG@10: 0.9270\n"
     ]
    },
    {
     "name": "stderr",
     "output_type": "stream",
     "text": [
      "Training: 100%|██████████| 65/65 [00:02<00:00, 28.28it/s]\n",
      "Validating: 100%|██████████| 17/17 [00:00<00:00, 30.71it/s]\n"
     ]
    },
    {
     "name": "stdout",
     "output_type": "stream",
     "text": [
      "Epoch 29/30 | Train Loss: 0.2481 | Val NDCG@10: 0.9284\n"
     ]
    },
    {
     "name": "stderr",
     "output_type": "stream",
     "text": [
      "Training: 100%|██████████| 65/65 [00:02<00:00, 25.09it/s]\n",
      "Validating: 100%|██████████| 17/17 [00:00<00:00, 24.02it/s]"
     ]
    },
    {
     "name": "stdout",
     "output_type": "stream",
     "text": [
      "Epoch 30/30 | Train Loss: 0.2413 | Val NDCG@10: 0.9293\n",
      "\n",
      "--- Final Training Complete. Best NDCG: 0.9374 ---\n"
     ]
    },
    {
     "name": "stderr",
     "output_type": "stream",
     "text": [
      "\n"
     ]
    }
   ],
   "source": [
    "# Step 21: Final Model Training and Asset Creation\n",
    "\n",
    "print(\"--- Final Training, Evaluation, and Asset Packaging ---\")\n",
    "\n",
    "# 1. Define the final configuration from the HPO study\n",
    "print(\"\\nDefining final model configuration from Optuna results...\")\n",
    "best_params = study_ranking.best_params\n",
    "final_config = SimpleNamespace(\n",
    "    EMBEDDING_DIM=best_params['embedding_dim'], LEARNING_RATE=best_params['learning_rate'],\n",
    "    DROPOUT_RATE=best_params['dropout'], N_LAYERS_USER=best_params['n_layers_user'],\n",
    "    N_LAYERS_ITEM=best_params['n_layers_item'], EPOCHS=30,\n",
    "    DEVICE=CONFIG.DEVICE\n",
    ")\n",
    "print(\"\\n--- Final Configuration for Champion Model ---\")\n",
    "for key, value in final_config.__dict__.items(): print(f\"  - {key}: {value}\")\n",
    "\n",
    "# 2. Instantiate and train the champion model\n",
    "print(\"\\nInstantiating and training the champion model...\")\n",
    "vocab_sizes = {k: len(v.classes_) for k, v in encoders.items()}\n",
    "title_embedding_dim = title_embeddings.shape[1]\n",
    "champion_model = FinalTwoTowerModel(vocab_sizes, title_embedding_dim, final_config).to(final_config.DEVICE)\n",
    "criterion = nn.BCEWithLogitsLoss()\n",
    "optimizer = optim.Adam(champion_model.parameters(), lr=final_config.LEARNING_RATE)\n",
    "\n",
    "best_final_ndcg = -1.0\n",
    "history_df = pd.DataFrame()\n",
    "for epoch in range(final_config.EPOCHS):\n",
    "    train_loss = train_one_epoch_ranking(champion_model, train_loader, optimizer, criterion, final_config.DEVICE)\n",
    "    metrics = evaluate_ranking(champion_model, val_loader, criterion, final_config.DEVICE)\n",
    "    \n",
    "    epoch_results = pd.DataFrame([{'epoch': epoch+1, 'train_loss': train_loss, **metrics}])\n",
    "    history_df = pd.concat([history_df, epoch_results], ignore_index=True)\n",
    "    \n",
    "    print(f\"Epoch {epoch+1}/{final_config.EPOCHS} | Train Loss: {train_loss:.4f} | Val NDCG@10: {metrics['ndcg@k']:.4f}\")\n",
    "    if metrics['ndcg@k'] > best_final_ndcg:\n",
    "        best_final_ndcg = metrics['ndcg@k']\n",
    "        print(f\"  -> New best model! Saving model and configuration...\")\n",
    "        torch.save(champion_model.state_dict(), os.path.join(PROCESSED_DATA_DIR, 'final_ranking_model.pth'))\n",
    "        config_to_save = {k: v for k, v in final_config.__dict__.items() if k != 'DEVICE'}\n",
    "        with open(os.path.join(PROCESSED_DATA_DIR, \"config.json\"), \"w\") as f:\n",
    "            json.dump(config_to_save, f, indent=4)\n",
    "\n",
    "print(f\"\\n--- Final Training Complete. Best NDCG: {best_final_ndcg:.4f} ---\")\n"
   ]
  },
  {
   "cell_type": "code",
   "execution_count": 22,
   "id": "2648e37d",
   "metadata": {},
   "outputs": [
    {
     "name": "stdout",
     "output_type": "stream",
     "text": [
      "Loading the definitive configuration from os.path.join(PROCESSED_DATA_DIR, 'config.json')...\n",
      "Loading the champion ranking model...\n",
      "Successfully loaded model and extracted Item Tower.\n",
      "Generating embeddings for all 3169 core items...\n"
     ]
    },
    {
     "name": "stderr",
     "output_type": "stream",
     "text": [
      "Generating Item Embeddings: 100%|██████████| 3169/3169 [00:00<00:00, 8744.26it/s] "
     ]
    },
    {
     "name": "stdout",
     "output_type": "stream",
     "text": [
      "Generated all item embeddings. Final matrix shape: (3169, 64)\n",
      "\n",
      "Building and saving the FAISS index...\n",
      "FAISS index with 3169 items saved to 'faiss_index.bin'.\n"
     ]
    },
    {
     "name": "stderr",
     "output_type": "stream",
     "text": [
      "\n"
     ]
    }
   ],
   "source": [
    "# Step 22: Building the FAISS Index\n",
    "\n",
    "# This step generates the final item embeddings from the trained model \n",
    "# and builds a FAISS index for fast similarity lookups.\n",
    "\n",
    "# Load the best model's configuration and state\n",
    "print(\"Loading the definitive configuration from os.path.join(PROCESSED_DATA_DIR, 'config.json')...\")\n",
    "with open(os.path.join(PROCESSED_DATA_DIR, \"config.json\"), \"r\") as f:\n",
    "    final_config = json.load(f)\n",
    "final_config = SimpleNamespace(**final_config)\n",
    "final_config.DEVICE = 'cpu' # Use CPU for inference to save GPU memory\n",
    "\n",
    "print(\"Loading the champion ranking model...\")\n",
    "vocab_sizes = {k: len(v.classes_) for k, v in encoders.items()}\n",
    "title_embedding_dim = title_embeddings.shape[1]\n",
    "final_model = FinalTwoTowerModel(vocab_sizes, title_embedding_dim, final_config)\n",
    "final_model.load_state_dict(torch.load(os.path.join(PROCESSED_DATA_DIR, 'final_ranking_model.pth'), map_location=torch.device('cpu')))\n",
    "final_model.eval()\n",
    "item_tower = final_model.item_tower\n",
    "print(\"Successfully loaded model and extracted Item Tower.\")\n",
    "\n",
    "# Generate embeddings for the core item vocabulary\n",
    "n_core_items = len(encoders['work_id'].classes_)\n",
    "print(f\"Generating embeddings for all {n_core_items} core items...\")\n",
    "\n",
    "title_embeddings_cpu = title_embeddings.to('cpu')\n",
    "core_work_ids_encoded = np.arange(n_core_items)\n",
    "item_embeddings_list = []\n",
    "\n",
    "# Create a consistent feature lookup from model_df\n",
    "item_features_df = model_df.select([\n",
    "    'work_id_encoded', 'canonical_author_encoded', \n",
    "    'publisher_encoded', 'yop_bin_encoded'\n",
    "]).unique(subset=['work_id_encoded']).sort('work_id_encoded')\n",
    "\n",
    "with torch.no_grad():\n",
    "    for work_id_encoded in tqdm(core_work_ids_encoded, desc=\"Generating Item Embeddings\"):\n",
    "        features_row = item_features_df.row(work_id_encoded, named=True)\n",
    "        features = {\n",
    "            'work_id': torch.tensor([work_id_encoded]),\n",
    "            'author': torch.tensor([features_row['canonical_author_encoded']]),\n",
    "            'publisher': torch.tensor([features_row['publisher_encoded']]),\n",
    "            'yop_bin': torch.tensor([features_row['yop_bin_encoded']]),\n",
    "            'title_embedding': title_embeddings_cpu[work_id_encoded].unsqueeze(0)\n",
    "        }\n",
    "        item_embedding = item_tower(features)\n",
    "        item_embeddings_list.append(item_embedding.numpy())\n",
    "all_item_embeddings = np.vstack(item_embeddings_list).astype('float32')\n",
    "print(f\"Generated all item embeddings. Final matrix shape: {all_item_embeddings.shape}\")\n",
    "\n",
    "# Build and save the FAISS index\n",
    "print(\"\\nBuilding and saving the FAISS index...\")\n",
    "d = all_item_embeddings.shape[1]\n",
    "index = faiss.IndexFlatL2(d)\n",
    "faiss.normalize_L2(all_item_embeddings)\n",
    "index.add(all_item_embeddings)\n",
    "faiss.write_index(index, os.path.join(PROCESSED_DATA_DIR, \"faiss_index.bin\"))\n",
    "print(f\"FAISS index with {index.ntotal} items saved to 'faiss_index.bin'.\")"
   ]
  },
  {
   "cell_type": "code",
   "execution_count": 23,
   "id": "0d958219",
   "metadata": {},
   "outputs": [
    {
     "name": "stdout",
     "output_type": "stream",
     "text": [
      "\n",
      "--- Performance of the Champion Ranking Model ---\n",
      "Best performance achieved at Epoch: 6\n",
      "  - Validation NDCG@10:      0.9374\n",
      "  - Validation Precision@10: 0.2278\n",
      "  - Validation Recall@10:    0.9863\n"
     ]
    },
    {
     "data": {
      "image/png": "[encoded data removed]",
      "text/plain": [
       "<Figure size 1200x500 with 2 Axes>"
      ]
     },
     "metadata": {},
     "output_type": "display_data"
    }
   ],
   "source": [
    "# Step 23: Analyzing Model Performance\n",
    "\n",
    "best_epoch_stats = history_df.loc[history_df['ndcg@k'].idxmax()]\n",
    "print(\"\\n--- Performance of the Champion Ranking Model ---\")\n",
    "print(f\"Best performance achieved at Epoch: {int(best_epoch_stats['epoch'])}\")\n",
    "print(f\"  - Validation NDCG@10:      {best_epoch_stats['ndcg@k']:.4f}\")\n",
    "print(f\"  - Validation Precision@10: {best_epoch_stats['precision@k']:.4f}\")\n",
    "print(f\"  - Validation Recall@10:    {best_epoch_stats['recall@k']:.4f}\")\n",
    "\n",
    "# Plot the full training history\n",
    "plt.figure(figsize=(12, 5))\n",
    "plt.subplot(1, 2, 1)\n",
    "plt.plot(history_df['epoch'], history_df['train_loss'], label='Train Loss')\n",
    "plt.plot(history_df['epoch'], history_df['val_loss'], label='Val Loss')\n",
    "plt.title('Loss vs. Epochs'); plt.xlabel('Epoch'); plt.ylabel('BCE Loss'); plt.legend()\n",
    "plt.subplot(1, 2, 2)\n",
    "plt.plot(history_df['epoch'], history_df['ndcg@k'], label='Val NDCG@10')\n",
    "plt.title('NDCG@10 vs. Epochs'); plt.xlabel('Epoch'); plt.ylabel('NDCG@10'); plt.legend()\n",
    "plt.tight_layout(); plt.show()"
   ]
  },
  {
   "cell_type": "code",
   "execution_count": 24,
   "id": "b5fb9149",
   "metadata": {},
   "outputs": [
    {
     "name": "stdout",
     "output_type": "stream",
     "text": [
      "Successfully loaded COLLABORATIVE FAISS index with 3169 vectors from 'data/processed/faiss_index.bin'.\n",
      "\n",
      "Performing search for query book: 'The Hobbit' (work_id_encoded: 1569)\n",
      "\n",
      "--- FAISS Search Results (Collaborative Similarity) ---\n",
      "Index | Distance | Title\n",
      "--------------------------------------------------\n",
      "1569  | 0.0000   | The Hobbit\n",
      "954   | 0.0667   | A Little Princess\n",
      "1365  | 0.0746   | The Namesake\n",
      "985   | 0.0768   | Lirael: Daughter of the Clayr\n",
      "1253  | 0.0805   | Persuasion\n",
      "229   | 0.0873   | The Little Prince\n",
      "1804  | 0.0909   | The Slippery Slope\n",
      "1758  | 0.0930   | On the Banks of Plum Creek\n",
      "77    | 0.0965   | Joy Luck Club\n",
      "1150  | 0.0973   | The Return of the King\n",
      "923   | 0.0978   | Farewell to Arms\n"
     ]
    }
   ],
   "source": [
    "# Step 24: FAISS Search Sanity Check\n",
    "\n",
    "# This cell verifies that the FAISS index is working correctly by finding similar items\n",
    "# for a known book title. It is self-contained and can run after a fresh kernel restart.\n",
    "\n",
    "import os\n",
    "import pickle\n",
    "from pathlib import Path\n",
    "\n",
    "import faiss\n",
    "import numpy as np\n",
    "import pandas as pd\n",
    "import polars as pl\n",
    "\n",
    "# Ensure PROCESSED_DATA_DIR is available even if the notebook kernel was just restarted\n",
    "if 'PROCESSED_DATA_DIR' not in globals():\n",
    "    PROCESSED_DATA_DIR = Path(os.getenv(\"PROCESSED_DATA_DIR\", \"./data/processed/\"))\n",
    "\n",
    "# Lazily load required assets if missing (fresh kernel scenarios)\n",
    "if 'encoders' not in globals():\n",
    "    with open(os.path.join(str(PROCESSED_DATA_DIR), \"encoders.pkl\"), \"rb\") as f:\n",
    "        encoders = pickle.load(f)\n",
    "if 'books' not in globals():\n",
    "    books = pl.read_parquet(os.path.join(str(PROCESSED_DATA_DIR), \"books_final.parquet\"))\n",
    "if 'model_df' not in globals():\n",
    "    model_df = pl.read_parquet(os.path.join(str(PROCESSED_DATA_DIR), \"model_df_final.parquet\"))\n",
    "\n",
    "index_path = os.path.join(str(PROCESSED_DATA_DIR), \"faiss_index.bin\")\n",
    "\n",
    "try:\n",
    "    index = faiss.read_index(index_path)\n",
    "    print(f\"Successfully loaded COLLABORATIVE FAISS index with {index.ntotal} vectors from '{index_path}'.\")\n",
    "except Exception as e:\n",
    "    print(f\"Error loading faiss_index.bin from '{index_path}': {e}\")\n",
    "    raise\n",
    "\n",
    "# Create lookup maps to translate between different ID types\n",
    "idx_to_work_id = encoders['work_id'].inverse_transform(np.arange(index.ntotal))\n",
    "work_id_to_title = books.select([\"work_id\", \"canonical_title\"]).unique(subset=['work_id']).to_pandas().set_index('work_id')\n",
    "idx_to_title = {i: work_id_to_title.loc[work_id]['canonical_title'] for i, work_id in enumerate(idx_to_work_id)}\n",
    "\n",
    "# Select a book to query\n",
    "query_title = \"The Hobbit\"\n",
    "query_work_id_encoded = None\n",
    "\n",
    "try:\n",
    "    query_work_id_encoded = model_df.filter(pl.col(\"canonical_title\") == query_title).select(\"work_id_encoded\").row(0)[0]\n",
    "    print(f\"\\nPerforming search for query book: '{query_title}' (work_id_encoded: {query_work_id_encoded})\")\n",
    "except IndexError:\n",
    "    print(f\"Error: Could not find '{query_title}' in the model's core vocabulary.\")\n",
    "\n",
    "if query_work_id_encoded is not None:\n",
    "    # Reconstruct the query vector directly from the FAISS index for robustness\n",
    "    query_vector = np.array([index.reconstruct(int(query_work_id_encoded))])\n",
    "    \n",
    "    # Use FAISS to find the nearest neighbors\n",
    "    k = 11\n",
    "    distances, indices = index.search(query_vector, k)\n",
    "    result_indices = indices[0]\n",
    "    result_distances = distances[0]\n",
    "    \n",
    "    # Display the results\n",
    "    print(\"\\n--- FAISS Search Results (Collaborative Similarity) ---\")\n",
    "    print(\"Index | Distance | Title\")\n",
    "    print(\"--------------------------------------------------\")\n",
    "    for i in range(k):\n",
    "        idx = result_indices[i]\n",
    "        dist = result_distances[i]\n",
    "        title = idx_to_title.get(idx, \"Unknown\")\n",
    "        print(f\"{idx:<5} | {dist:<8.4f} | {title}\")"
   ]
  },
  {
   "cell_type": "code",
   "execution_count": 25,
   "id": "f76353e9",
   "metadata": {},
   "outputs": [
    {
     "name": "stdout",
     "output_type": "stream",
     "text": [
      "--- Saving all necessary assets ---\n",
      "Creating definitive model configuration from Optuna results...\n",
      "Definitive os.path.join(PROCESSED_DATA_DIR, 'config.json') saved successfully.\n",
      "All other data assets saved.\n",
      "\n",
      "--- All assets are now ready for the dashboard. ---\n"
     ]
    }
   ],
   "source": [
    "# Step 25: Save Final Assets for Dashboard\n",
    "\n",
    "load_dotenv()\n",
    "output_dir = os.getenv(\"PROCESSED_DATA_DIR\", \"data/processed\")\n",
    "os.makedirs(output_dir, exist_ok=True)\n",
    "\n",
    "print(f\"--- Saving all necessary assets ---\")\n",
    "\n",
    "# Ensure required assets exist even after a fresh kernel restart\n",
    "try:\n",
    "    import polars as _pl  # alias to avoid shadowing if imported\n",
    "    import torch as _torch\n",
    "    import pickle as _pickle\n",
    "    import os as _os\n",
    "    if 'books' not in globals() and _os.path.exists(_os.path.join(output_dir, \"books_final.parquet\")):\n",
    "        books = _pl.read_parquet(_os.path.join(output_dir, \"books_final.parquet\"))\n",
    "    if 'users' not in globals() and _os.path.exists(_os.path.join(output_dir, \"users_final.parquet\")):\n",
    "        users = _pl.read_parquet(_os.path.join(output_dir, \"users_final.parquet\"))\n",
    "    if 'ratings' not in globals() and _os.path.exists(_os.path.join(output_dir, \"ratings_final.parquet\")):\n",
    "        ratings = _pl.read_parquet(_os.path.join(output_dir, \"ratings_final.parquet\"))\n",
    "    if 'model_df' not in globals() and _os.path.exists(_os.path.join(output_dir, \"model_df_final.parquet\")):\n",
    "        model_df = _pl.read_parquet(_os.path.join(output_dir, \"model_df_final.parquet\"))\n",
    "    if 'encoders' not in globals() and _os.path.exists(_os.path.join(output_dir, \"encoders.pkl\")):\n",
    "        with open(_os.path.join(output_dir, \"encoders.pkl\"), \"rb\") as _f:\n",
    "            encoders = _pickle.load(_f)\n",
    "    if 'user_history' not in globals() and _os.path.exists(_os.path.join(output_dir, \"user_history.pkl\")):\n",
    "        with open(_os.path.join(output_dir, \"user_history.pkl\"), \"rb\") as _f:\n",
    "            user_history = _pickle.load(_f)\n",
    "    if 'title_embeddings' not in globals() and _os.path.exists(_os.path.join(output_dir, \"title_embeddings.pt\")):\n",
    "        title_embeddings = _torch.load(_os.path.join(output_dir, \"title_embeddings.pt\"), map_location=\"cpu\")\n",
    "except Exception:\n",
    "    pass\n",
    "\n",
    "# 1. Create and save the definitive, portable config as a JSON file\n",
    "print(\"Creating definitive model configuration from Optuna results...\")\n",
    "best_params = study_ranking.best_params\n",
    "final_config_dict = {\n",
    "    'EMBEDDING_DIM': best_params['embedding_dim'],\n",
    "    'LEARNING_RATE': best_params['learning_rate'],\n",
    "    'DROPOUT_RATE': best_params['dropout'],\n",
    "    'N_LAYERS_USER': best_params['n_layers_user'],\n",
    "    'N_LAYERS_ITEM': best_params['n_layers_item'],\n",
    "    'EPOCHS': CONFIG.EPOCHS \n",
    "}\n",
    "with open(os.path.join(PROCESSED_DATA_DIR, \"config.json\"), \"w\") as f:\n",
    "    json.dump(final_config_dict, f, indent=4)\n",
    "print(\"Definitive os.path.join(PROCESSED_DATA_DIR, 'config.json') saved successfully.\")\n",
    "\n",
    "# 2. Save all other data assets needed by the dashboard or for future analysis\n",
    "books.write_parquet(os.path.join(output_dir, \"books_final.parquet\"))\n",
    "users.write_parquet(os.path.join(output_dir, \"users_final.parquet\"))\n",
    "ratings.write_parquet(os.path.join(output_dir, \"ratings_final.parquet\"))\n",
    "model_df.to_pandas().to_parquet(os.path.join(output_dir, \"model_df_final.parquet\"))\n",
    "with open(os.path.join(output_dir, \"encoders.pkl\"), \"wb\") as f: pickle.dump(encoders, f)\n",
    "with open(os.path.join(output_dir, \"user_history.pkl\"), \"wb\") as f: pickle.dump(user_history, f)\n",
    "torch.save(title_embeddings, os.path.join(output_dir, \"title_embeddings.pt\"))\n",
    "print(\"All other data assets saved.\")\n",
    "print(\"\\n--- All assets are now ready for the dashboard. ---\")"
   ]
  },
  {
   "cell_type": "code",
   "execution_count": 26,
   "id": "d93393b7",
   "metadata": {},
   "outputs": [
    {
     "name": "stdout",
     "output_type": "stream",
     "text": [
      "--- Memory Optimization and Caching Utilities ---\n",
      "Optimizing existing dataframes for memory efficiency...\n",
      "Memory usage after books optimization: 451.20 MB\n",
      "Memory usage after users optimization: 566.17 MB\n",
      "Memory usage after ratings optimization: 595.58 MB\n",
      "Memory optimization utilities are ready.\n"
     ]
    }
   ],
   "source": [
    "# Step 26: Memory Optimization Utilities (Legacy)\n",
    "\n",
    "# Note: This cell contains helper utilities for managing memory.\n",
    "# It was likely used during development to optimize dataframes.\n",
    "print(\"--- Memory Optimization and Caching Utilities ---\")\n",
    "\n",
    "class MemoryOptimizer:\n",
    "    \"\"\"Utility class for memory management and optimization.\"\"\"\n",
    "    @staticmethod\n",
    "    def get_memory_usage():\n",
    "        process = psutil.Process()\n",
    "        return process.memory_info().rss / 1024 / 1024\n",
    "    \n",
    "    @staticmethod\n",
    "    def clear_cache():\n",
    "        gc.collect()\n",
    "        if torch.cuda.is_available():\n",
    "            torch.cuda.empty_cache()\n",
    "    \n",
    "    @staticmethod\n",
    "    def optimize_dataframe(df):\n",
    "        if isinstance(df, pl.DataFrame):\n",
    "            df_pd = df.to_pandas()\n",
    "            for col in df_pd.select_dtypes(include=['int64']).columns:\n",
    "                df_pd[col] = pd.to_numeric(df_pd[col], downcast='integer')\n",
    "            for col in df_pd.select_dtypes(include=['float64']).columns:\n",
    "                df_pd[col] = pd.to_numeric(df_pd[col], downcast='float')\n",
    "            return pl.from_pandas(df_pd)\n",
    "        return df\n",
    "\n",
    "class SmartCache:\n",
    "    \"\"\"Intelligent caching system for expensive operations.\"\"\"\n",
    "    def __init__(self, max_size=100):\n",
    "        self.cache = {}\n",
    "        self.max_size = max_size\n",
    "        self.access_count = {}\n",
    "    \n",
    "    def _generate_key(self, *args, **kwargs):\n",
    "        key_str = str(args) + str(sorted(kwargs.items()))\n",
    "        return hashlib.md5(key_str.encode()).hexdigest()\n",
    "    \n",
    "    def get(self, key):\n",
    "        if key in self.cache:\n",
    "            self.access_count[key] = self.access_count.get(key, 0) + 1\n",
    "            return self.cache[key]\n",
    "        return None\n",
    "    \n",
    "    def set(self, key, value):\n",
    "        if len(self.cache) >= self.max_size:\n",
    "            lru_key = min(self.access_count.keys(), key=lambda k: self.access_count[k])\n",
    "            del self.cache[lru_key]\n",
    "            del self.access_count[lru_key]\n",
    "        self.cache[key] = value\n",
    "        self.access_count[key] = 1\n",
    "    \n",
    "    def cached_function(self, func):\n",
    "        def wrapper(*args, **kwargs):\n",
    "            key = self._generate_key(func.__name__, *args, **kwargs)\n",
    "            result = self.get(key)\n",
    "            if result is None:\n",
    "                result = func(*args, **kwargs)\n",
    "                self.set(key, result)\n",
    "            return result\n",
    "        return wrapper\n",
    "\n",
    "# Global cache instance\n",
    "cache = SmartCache(max_size=50)\n",
    "\n",
    "def log_memory_usage(operation_name):\n",
    "    memory_mb = MemoryOptimizer.get_memory_usage()\n",
    "    print(f\"Memory usage after {operation_name}: {memory_mb:.2f} MB\")\n",
    "\n",
    "# Apply optimization to the dataframes currently in memory\n",
    "print(\"Optimizing existing dataframes for memory efficiency...\")\n",
    "if 'books' in locals():\n",
    "    books = MemoryOptimizer.optimize_dataframe(books)\n",
    "    log_memory_usage(\"books optimization\")\n",
    "if 'users' in locals():\n",
    "    users = MemoryOptimizer.optimize_dataframe(users)\n",
    "    log_memory_usage(\"users optimization\")\n",
    "if 'ratings' in locals():\n",
    "    ratings = MemoryOptimizer.optimize_dataframe(ratings)\n",
    "    log_memory_usage(\"ratings optimization\")\n",
    "\n",
    "print(\"Memory optimization utilities are ready.\")"
   ]
  },
  {
   "cell_type": "code",
   "execution_count": 27,
   "id": "571ddd98",
   "metadata": {},
   "outputs": [
    {
     "name": "stdout",
     "output_type": "stream",
     "text": [
      "\n",
      "--- Building the Semantic (Title-Based) FAISS Index ---\n",
      "Loaded title embeddings for 3169 core items.\n",
      "An error occurred while building the semantic FAISS index: Error in faiss::FileIOWriter::FileIOWriter(const char *) at /Users/runner/work/faiss-wheels/faiss-wheels/third-party/faiss/faiss/impl/io.cpp:104: Error: 'f' failed: could not open data/processed/data/processed/semantic_faiss_index.bin for writing: No such file or directory\n"
     ]
    }
   ],
   "source": [
    "# Step 22b: Building the SEMANTIC FAISS Index\n",
    "\n",
    "# This index is for finding similar items based on their title embeddings.\n",
    "# It MUST be built using the same core item vocabulary as the collaborative index.\n",
    "\n",
    "print(\"\\n--- Building the Semantic (Title-Based) FAISS Index ---\")\n",
    "\n",
    "# 1. Load the title embeddings for the CORE items\n",
    "# These were generated in Step 17 and correspond to the 0-to-N-1 encoded work IDs.\n",
    "try:\n",
    "    core_title_embeddings = torch.load(os.path.join(PROCESSED_DATA_DIR, \"title_embeddings.pt\"), map_location='cpu')\n",
    "    core_title_embeddings_np = core_title_embeddings.numpy().astype('float32')\n",
    "    print(f\"Loaded title embeddings for {core_title_embeddings_np.shape[0]} core items.\")\n",
    "\n",
    "    # 2. Build the FAISS index\n",
    "    embedding_dim = core_title_embeddings_np.shape[1]\n",
    "    semantic_index = faiss.IndexFlatL2(embedding_dim) # L2 distance is good for normalized embeddings\n",
    "\n",
    "    # 3. Normalize and add the embeddings to the index\n",
    "    faiss.normalize_L2(core_title_embeddings_np)\n",
    "    semantic_index.add(core_title_embeddings_np)\n",
    "\n",
    "    # 4. Save the index\n",
    "    faiss.write_index(semantic_index, os.path.join(PROCESSED_DATA_DIR, os.path.join(PROCESSED_DATA_DIR, \"semantic_faiss_index.bin\")))\n",
    "    print(f\"Semantic FAISS index with {semantic_index.ntotal} items saved to os.path.join(PROCESSED_DATA_DIR, 'semantic_faiss_index.bin').\")\n",
    "\n",
    "except Exception as e:\n",
    "    print(f\"An error occurred while building the semantic FAISS index: {e}\")"
   ]
  },
  {
   "cell_type": "code",
   "execution_count": 34,
   "id": "763108e0",
   "metadata": {},
   "outputs": [
    {
     "name": "stdout",
     "output_type": "stream",
     "text": [
      "\n",
      "--- Building the Semantic (Title-Based) FAISS Index ---\n",
      "Loaded title embeddings for 3169 core items.\n",
      "Semantic FAISS index with 3169 items saved to os.path.join(PROCESSED_DATA_DIR, 'semantic_faiss_index.bin').\n",
      "\n",
      "==================================================\n",
      "--- RUNNING DEFINITIVE SMOKE TESTS ---\n",
      "==================================================\n",
      "--- Loading all assets for smoke test... ---\n",
      "\n",
      "[TEST 1] Recommendations for CORE User: 638\n",
      "Status: Showing personalized recommendations for Core User 638.\n",
      "  1. The Hearing\n",
      "by John Lescroart\n",
      "  2. The Kitchen God's Wife\n",
      "by Amy Tan\n",
      "  3. Mystic River\n",
      "by Dennis Lehane\n",
      "  4. Dilbert: A Book of Postcards\n",
      "by Scott Adams\n",
      "  5. Invisible Man\n",
      "by Ralph Ellison\n",
      "\n",
      "[TEST 2] Recommendations for COLD START User: 1\n",
      "Status: Showing most popular books for Cold Start User 1.\n",
      "  1. The Lovely Bones: A Novel\n",
      "by Alice Sebold\n",
      "  2. Wild Animus\n",
      "by Rich Shapero\n",
      "  3. The Da Vinci Code\n",
      "by DAN BROWN\n",
      "  4. The Secret Life of Bees\n",
      "by Sue Monk Kidd\n",
      "  5. The Red Tent : A Novel\n",
      "by Anita Diamant\n",
      "\n",
      "[TEST 3] Similar Items for CORE book: 'Little Women'\n",
      "Status: Showing items similar to 'Little Women'.\n",
      "  1. Enduring Love\n",
      "by Ian McEwan\n",
      "  2. Love Story\n",
      "by Erich Segal\n",
      "  3. The Evolution of Jane\n",
      "by Cathleen Schine\n",
      "  4. Rock Star\n",
      "by Jackie Collins\n",
      "  5. The Angel of Darkness\n",
      "by Caleb Carr\n",
      "\n",
      "[TEST 4] Similar Items for COLD START book: 'Audition for Murder'\n",
      "Status: Showing items similar to 'Audition for Murder'.\n",
      "(This is a Cold Start item, showing other books by Susan Sussman).\n",
      "  1. There's No Such Thing As a Chanukah Bush, Sandy Goldstein\n",
      "by Susan Sussman\n",
      "  2. Cruising for Murder\n",
      "by Susan Sussman\n",
      "  3. The DIETER\n",
      "by Susan Sussman\n",
      "  4. TIME OFF FROM GOOD BEHAVIOR\n",
      "by Susan Sussman\n"
     ]
    }
   ],
   "source": [
    "# Step 27: Definitive Smoke Tests\n",
    "\n",
    "# This final cell provides a set of tests to ensure the entire recommendation system\n",
    "# (asset loading, model inference, FAISS search, etc.) works end-to-end.\n",
    "\n",
    "_ASSETS_CACHE = None\n",
    "def get_assets():\n",
    "    \"\"\"Loads all necessary assets into a cached dictionary.\"\"\"\n",
    "    global _ASSETS_CACHE\n",
    "    if _ASSETS_CACHE is None:\n",
    "        print(\"--- Loading all assets for smoke test... ---\")\n",
    "        assets = {}\n",
    "        \n",
    "        # <<< FIX: Load the correct model config from the JSON file first!\n",
    "        with open(os.path.join(PROCESSED_DATA_DIR, \"config.json\"), \"r\") as f: config_dict = json.load(f)\n",
    "        MODEL_CONFIG = SimpleNamespace(**config_dict); MODEL_CONFIG.DEVICE = \"cpu\"\n",
    "\n",
    "        with open(os.path.join(PROCESSED_DATA_DIR, \"encoders.pkl\"), \"rb\") as f: assets[\"encoders\"] = pickle.load(f)\n",
    "        with open(os.path.join(PROCESSED_DATA_DIR, \"user_history.pkl\"), \"rb\") as f: assets[\"user_history\"] = pickle.load(f)\n",
    "        assets[\"books\"] = pl.read_parquet(os.path.join(PROCESSED_DATA_DIR, \"books_final.parquet\"))\n",
    "        assets[\"users\"] = pl.read_parquet(os.path.join(PROCESSED_DATA_DIR, \"users_final.parquet\"))\n",
    "        assets[\"model_df_pd\"] = pd.read_parquet(os.path.join(PROCESSED_DATA_DIR, \"model_df_final.parquet\"))\n",
    "        assets[\"title_embeddings\"] = torch.load(os.path.join(PROCESSED_DATA_DIR, \"title_embeddings.pt\"), map_location=MODEL_CONFIG.DEVICE)\n",
    "        assets[\"collaborative_faiss_index\"] = faiss.read_index(os.path.join(PROCESSED_DATA_DIR, \"faiss_index.bin\"))\n",
    "        assets[\"semantic_faiss_index\"] = faiss.read_index(os.path.join(PROCESSED_DATA_DIR, \"semantic_faiss_index.bin\"))\n",
    "        vocab_sizes = {k: len(v.classes_) for k, v in assets[\"encoders\"].items()}\n",
    "        \n",
    "        # <<< FIX: Use the loaded MODEL_CONFIG, not the global CONFIG\n",
    "        model = FinalTwoTowerModel(vocab_sizes, assets[\"title_embeddings\"].shape[1], MODEL_CONFIG)\n",
    "        model.load_state_dict(torch.load(os.path.join(PROCESSED_DATA_DIR, \"final_ranking_model.pth\"), map_location=MODEL_CONFIG.DEVICE))\n",
    "        assets[\"model\"] = model.eval()\n",
    "        assets[\"core_user_ids\"] = set(assets[\"model_df_pd\"]['user_id'].unique())\n",
    "        _ASSETS_CACHE = assets\n",
    "    return _ASSETS_CACHE\n",
    "# Step 22b: Building the SEMANTIC FAISS Index\n",
    "\n",
    "# This index is for finding similar items based on their title embeddings.\n",
    "# It MUST be built using the same core item vocabulary as the collaborative index.\n",
    "\n",
    "print(\"\\n--- Building the Semantic (Title-Based) FAISS Index ---\")\n",
    "\n",
    "# 1. Load the title embeddings for the CORE items\n",
    "# These were generated in Step 17 and correspond to the 0-to-N-1 encoded work IDs.\n",
    "try:\n",
    "    core_title_embeddings = torch.load(os.path.join(PROCESSED_DATA_DIR, \"title_embeddings.pt\"), map_location='cpu')\n",
    "    core_title_embeddings_np = core_title_embeddings.numpy().astype('float32')\n",
    "    print(f\"Loaded title embeddings for {core_title_embeddings_np.shape[0]} core items.\")\n",
    "\n",
    "    # 2. Build the FAISS index\n",
    "    embedding_dim = core_title_embeddings_np.shape[1]\n",
    "    semantic_index = faiss.IndexFlatL2(embedding_dim) # L2 distance is good for normalized embeddings\n",
    "\n",
    "    # 3. Normalize and add the embeddings to the index\n",
    "    faiss.normalize_L2(core_title_embeddings_np)\n",
    "    semantic_index.add(core_title_embeddings_np)\n",
    "\n",
    "    # 4. Save the index\n",
    "    faiss.write_index(semantic_index, os.path.join(PROCESSED_DATA_DIR, \"semantic_faiss_index.bin\"))\n",
    "    print(f\"Semantic FAISS index with {semantic_index.ntotal} items saved to os.path.join(PROCESSED_DATA_DIR, 'semantic_faiss_index.bin').\")\n",
    "\n",
    "except Exception as e:\n",
    "    print(f\"An error occurred while building the semantic FAISS index: {e}\")\n",
    "def get_recommendations(mode, user_id_str, book_title_str, k=5):\n",
    "    \"\"\"Main logic for generating recommendations based on the selected mode.\"\"\"\n",
    "    assets = get_assets()\n",
    "    books_df = assets['books']\n",
    "    core_user_ids = assets['core_user_ids']\n",
    "    encoders = assets['encoders']\n",
    "    info_text = \"\"\n",
    "    work_ids = []\n",
    "\n",
    "    if not mode: return \"Please select a mode.\", []\n",
    "\n",
    "    if mode == \"Recommend for User\":\n",
    "        user_id = int(user_id_str) if user_id_str else None\n",
    "        if not user_id: return \"Please select a User ID.\", []\n",
    "\n",
    "        if user_id in core_user_ids:\n",
    "            # Core User Logic (Personalized Recs)\n",
    "            info_text = f\"Showing personalized recommendations for Core User {user_id}.\"\n",
    "            user_tower = assets['model'].user_tower\n",
    "            user_id_encoded = encoders['user_id'].transform([user_id])[0]\n",
    "            user_features_row = assets['model_df_pd'][assets['model_df_pd']['user_id_encoded'] == user_id_encoded].iloc[0]\n",
    "            features = {'user_id': torch.tensor([user_id_encoded]), 'age_bin': torch.tensor([user_features_row['age_bin_encoded']]), 'country': torch.tensor([user_features_row['country_encoded']])}\n",
    "            with torch.no_grad(): user_embedding = user_tower(features).cpu().numpy()\n",
    "            faiss.normalize_L2(user_embedding)\n",
    "            search_k = k + len(assets['user_history'].get(user_id, set()))\n",
    "            distances, indices = assets['collaborative_faiss_index'].search(user_embedding, search_k)\n",
    "            recommended_ids_encoded = [idx for idx in indices[0] if idx not in assets['user_history'].get(user_id_encoded, set())]\n",
    "            work_ids = encoders['work_id'].inverse_transform(recommended_ids_encoded)\n",
    "        else:\n",
    "            # Cold Start User Logic (Popularity Fallback)\n",
    "            info_text = f\"Showing most popular books for Cold Start User {user_id}.\"\n",
    "            ratings_df = pl.read_parquet(os.path.join(PROCESSED_DATA_DIR, \"ratings_final.parquet\"))\n",
    "            work_ids = ratings_df['work_id'].value_counts().sort('count', descending=True).head(k)['work_id'].to_list()\n",
    "\n",
    "    elif mode == \"Find Similar Items\":\n",
    "        if not book_title_str: return \"Please select a book title.\", []\n",
    "        query_book = books_df.filter(pl.col('canonical_title') == book_title_str)\n",
    "        if query_book.is_empty(): return f\"Book '{book_title_str}' not found.\", []\n",
    "        \n",
    "        query_work_id = query_book['work_id'][0]\n",
    "        query_author = query_book['canonical_author'][0]\n",
    "        info_text = f\"Showing items similar to '{book_title_str}'.\"\n",
    "\n",
    "        core_work_ids = set(encoders['work_id'].classes_)\n",
    "        if query_work_id in core_work_ids:\n",
    "            # Core Item Logic (Semantic Similarity)\n",
    "            work_id_encoded = encoders['work_id'].transform([query_work_id])[0]\n",
    "            query_vector = assets['title_embeddings'][work_id_encoded:work_id_encoded+1].cpu().numpy()\n",
    "            distances, indices = assets['semantic_faiss_index'].search(query_vector, k + 1)\n",
    "            similar_ids_encoded = [idx for idx in indices[0] if idx != work_id_encoded]\n",
    "            work_ids = encoders['work_id'].inverse_transform(similar_ids_encoded)\n",
    "        else:\n",
    "            # Cold Start Item Logic (Author-based Fallback)\n",
    "            info_text += f\"\\n(This is a Cold Start item, showing other books by {query_author}).\"\n",
    "            author_recs = books_df.filter((pl.col('canonical_author') == query_author) & (pl.col('work_id') != query_work_id))\n",
    "            work_ids = author_recs.head(k)['work_id'].to_list()\n",
    "\n",
    "    if hasattr(work_ids, '__len__') and len(work_ids) > 0:\n",
    "        final_work_ids = list(work_ids)[:k]\n",
    "        rec_books_all_editions = books_df.filter(pl.col('work_id').is_in(final_work_ids))\n",
    "        rec_books_unique = rec_books_all_editions.unique(subset=['work_id'], keep='first')\n",
    "        order_map = {work_id: i for i, work_id in enumerate(final_work_ids)}\n",
    "        rec_books_list = rec_books_unique.to_dicts()\n",
    "        rec_books_list.sort(key=lambda b: order_map.get(b['work_id'], float('inf')))\n",
    "        gallery_output = [(row['image_m'], f\"{row['canonical_title']}\\nby {row['canonical_author']}\") for row in rec_books_list]\n",
    "        return info_text, gallery_output\n",
    "\n",
    "    return info_text, []\n",
    "\n",
    "def run_smoke_test():\n",
    "    print(\"\\n\" + \"=\"*50); print(\"--- RUNNING DEFINITIVE SMOKE TESTS ---\"); print(\"=\"*50)\n",
    "    \n",
    "    def test_and_print(mode, user_id, title):\n",
    "        info, gallery = get_recommendations(mode, user_id, title, k=5)\n",
    "        print(f\"Status: {info}\")\n",
    "        if len(gallery) > 0:\n",
    "            for i, item in enumerate(gallery): print(f\"  {i+1}. {item[1].replace('//n',' ')}\")\n",
    "        else:\n",
    "            print(\"  -> No recommendations generated.\")\n",
    "\n",
    "    assets = get_assets()\n",
    "    \n",
    "    print(f\"\\n[TEST 1] Recommendations for CORE User: 638\")\n",
    "    test_and_print(\"Recommend for User\", \"638\", None)\n",
    "    \n",
    "    print(f\"\\n[TEST 2] Recommendations for COLD START User: 1\")\n",
    "    test_and_print(\"Recommend for User\", \"1\", None)\n",
    "    \n",
    "    core_work_ids = set(assets['encoders']['work_id'].classes_)\n",
    "    core_books_df = assets['books'].filter(pl.col('work_id').is_in(core_work_ids))\n",
    "    core_item_title = core_books_df['canonical_title'][0]\n",
    "    print(f\"\\n[TEST 3] Similar Items for CORE book: '{core_item_title}'\")\n",
    "    test_and_print(\"Find Similar Items\", None, core_item_title)\n",
    "        \n",
    "    cold_books_df = assets['books'].filter(~pl.col('work_id').is_in(core_work_ids))\n",
    "    cold_item_title = cold_books_df['canonical_title'][0]\n",
    "    print(f\"\\n[TEST 4] Similar Items for COLD START book: '{cold_item_title}'\")\n",
    "    test_and_print(\"Find Similar Items\", None, cold_item_title)\n",
    "\n",
    "# Run the final tests\n",
    "run_smoke_test()"
   ]
  },
  {
   "cell_type": "code",
   "execution_count": 32,
   "id": "2345fe22",
   "metadata": {},
   "outputs": [
    {
     "data": {
      "text/html": [
       "<div><style>\n",
       ".dataframe > thead > tr,\n",
       ".dataframe > tbody > tr {\n",
       "  text-align: right;\n",
       "  white-space: pre-wrap;\n",
       "}\n",
       "</style>\n",
       "<small>shape: (332_709, 4)</small><table border=\"1\" class=\"dataframe\"><thead><tr><th>user_id</th><th>work_id</th><th>rating</th><th>rating_count</th></tr><tr><td>i32</td><td>u32</td><td>i8</td><td>u32</td></tr></thead><tbody><tr><td>229632</td><td>65569</td><td>5</td><td>1</td></tr><tr><td>71514</td><td>80086</td><td>5</td><td>1</td></tr><tr><td>276521</td><td>84147</td><td>5</td><td>1</td></tr><tr><td>57002</td><td>157292</td><td>10</td><td>1</td></tr><tr><td>11245</td><td>125837</td><td>8</td><td>1</td></tr><tr><td>&hellip;</td><td>&hellip;</td><td>&hellip;</td><td>&hellip;</td></tr><tr><td>44252</td><td>12968</td><td>10</td><td>1</td></tr><tr><td>170947</td><td>92525</td><td>9</td><td>1</td></tr><tr><td>169779</td><td>48078</td><td>7</td><td>1</td></tr><tr><td>167722</td><td>178290</td><td>7</td><td>1</td></tr><tr><td>223154</td><td>61165</td><td>9</td><td>1</td></tr></tbody></table></div>"
      ],
      "text/plain": [
       "shape: (332_709, 4)\n",
       "┌─────────┬─────────┬────────┬──────────────┐\n",
       "│ user_id ┆ work_id ┆ rating ┆ rating_count │\n",
       "│ ---     ┆ ---     ┆ ---    ┆ ---          │\n",
       "│ i32     ┆ u32     ┆ i8     ┆ u32          │\n",
       "╞═════════╪═════════╪════════╪══════════════╡\n",
       "│ 229632  ┆ 65569   ┆ 5      ┆ 1            │\n",
       "│ 71514   ┆ 80086   ┆ 5      ┆ 1            │\n",
       "│ 276521  ┆ 84147   ┆ 5      ┆ 1            │\n",
       "│ 57002   ┆ 157292  ┆ 10     ┆ 1            │\n",
       "│ 11245   ┆ 125837  ┆ 8      ┆ 1            │\n",
       "│ …       ┆ …       ┆ …      ┆ …            │\n",
       "│ 44252   ┆ 12968   ┆ 10     ┆ 1            │\n",
       "│ 170947  ┆ 92525   ┆ 9      ┆ 1            │\n",
       "│ 169779  ┆ 48078   ┆ 7      ┆ 1            │\n",
       "│ 167722  ┆ 178290  ┆ 7      ┆ 1            │\n",
       "│ 223154  ┆ 61165   ┆ 9      ┆ 1            │\n",
       "└─────────┴─────────┴────────┴──────────────┘"
      ]
     },
     "execution_count": 32,
     "metadata": {},
     "output_type": "execute_result"
    }
   ],
   "source": [
    "ratings"
   ]
  },
  {
   "cell_type": "code",
   "execution_count": null,
   "id": "6612b358",
   "metadata": {},
   "outputs": [],
   "source": []
  }
 ],
 "metadata": {
  "kernelspec": {
   "display_name": ".venv",
   "language": "python",
   "name": "python3"
  },
  "language_info": {
   "codemirror_mode": {
    "name": "ipython",
    "version": 3
   },
   "file_extension": ".py",
   "mimetype": "text/x-python",
   "name": "python",
   "nbconvert_exporter": "python",
   "pygments_lexer": "ipython3",
   "version": "3.9.6"
  }
 },
 "nbformat": 4,
 "nbformat_minor": 5
}
